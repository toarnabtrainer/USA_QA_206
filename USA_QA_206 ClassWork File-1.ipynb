{
 "cells": [
  {
   "cell_type": "markdown",
   "id": "5500c09c-fb48-4522-a6ef-755e81690785",
   "metadata": {
    "vscode": {
     "languageId": "plaintext"
    }
   },
   "source": [
    "## **Introduction to Python**"
   ]
  },
  {
   "cell_type": "markdown",
   "id": "40e029eb-f290-44b3-b737-2f6842c2741b",
   "metadata": {
    "vscode": {
     "languageId": "plaintext"
    }
   },
   "source": [
    "### User Input and Output"
   ]
  },
  {
   "cell_type": "code",
   "execution_count": 5,
   "id": "9e0cd002-a6ba-46fc-8f08-8927eed44f18",
   "metadata": {},
   "outputs": [],
   "source": [
    "# This is a comment line\n",
    "# This is another comment line\n",
    "# This is the last comment line"
   ]
  },
  {
   "cell_type": "code",
   "execution_count": 8,
   "id": "ed3b1407",
   "metadata": {
    "vscode": {
     "languageId": "plaintext"
    }
   },
   "outputs": [
    {
     "name": "stdin",
     "output_type": "stream",
     "text": [
      "Please enter the first number:  100\n",
      "Please enter the second number:  200\n"
     ]
    },
    {
     "name": "stdout",
     "output_type": "stream",
     "text": [
      "100 <class 'str'> 2557513147248\n",
      "200 <class 'str'> 2557513144176\n",
      "100200\n",
      "End of the program...\n"
     ]
    }
   ],
   "source": [
    "num1 = input(\"Please enter the first number: \")\n",
    "num2 = input(\"Please enter the second number: \")\n",
    "print (num1, type(num1), id(num1))\n",
    "print (num2, type(num2), id(num2))\n",
    "result = num1 + num2   # string concatenation\n",
    "print (result)\n",
    "print ('End of the program...')"
   ]
  },
  {
   "cell_type": "code",
   "execution_count": 12,
   "id": "f8bbd5ca",
   "metadata": {
    "vscode": {
     "languageId": "plaintext"
    }
   },
   "outputs": [
    {
     "name": "stdin",
     "output_type": "stream",
     "text": [
      "Please enter the first number:  200\n",
      "Please enter the second number:  300\n"
     ]
    },
    {
     "name": "stdout",
     "output_type": "stream",
     "text": [
      "200 <class 'int'> 2557433813456\n",
      "300 <class 'int'> 2557512297552\n",
      "500\n",
      "End of the program...\n"
     ]
    }
   ],
   "source": [
    "num1 = int(input(\"Please enter the first number: \"))\n",
    "num2 = int(input(\"Please enter the second number: \"))\n",
    "print (num1, type(num1), id(num1))\n",
    "print (num2, type(num2), id(num2))\n",
    "result = num1 + num2   # algebraic addition operation\n",
    "print (result)\n",
    "print ('End of the program...')"
   ]
  },
  {
   "cell_type": "code",
   "execution_count": 29,
   "id": "1826c159",
   "metadata": {
    "vscode": {
     "languageId": "plaintext"
    }
   },
   "outputs": [
    {
     "name": "stdout",
     "output_type": "stream",
     "text": [
      "So 200 + 300 = 500\n",
      "So 200 + 300 = 500\n",
      "So 200 + 300 = 500\n",
      "So 200 + 300 = 500\n",
      "So 200 + 300 = 500\n",
      "So 200 + 300 = 500\n",
      "So 200 + 300 = 500\n",
      "So 200 + 300 = 500\n",
      "So 200 + 300 = 500.000000\n",
      "So 200 + 300 = 500.000000\n",
      "So 200 + 300 =   500.00\n",
      "So 200 + 300 = 500\n"
     ]
    }
   ],
   "source": [
    "print (\"So\", num1, \"+\", num2, \"=\", result)\n",
    "print (\"So \" + str(num1) + \" + \" + str(num2) + \" = \" + str(result))\n",
    "print (\"So {} + {} = {}\".format(num1, num2, result))   # {} is called variable place holder\n",
    "print (\"So {0} + {1} = {2}\".format(num1, num2, result))   # {} is indexed variable place holder\n",
    "print (\"So {2} + {1} = {0}\".format(result, num2, num1))   # {} is indexed variable place holder\n",
    "print (\"So {fn} + {sn} = {re}\".format(fn = num1, sn = num2, re = result))   # {} is labelled variable place holder\n",
    "print (\"So {fn} + {sn} = {re}\".format(re = result, sn = num2, fn = num1))   # {} is labelled variable place holder\n",
    "print (\"So %d + %d = %d\"%(num1, num2, result))   # %d denotes decimal format\n",
    "print (\"So %d + %d = %f\"%(num1, num2, result))   # %f denotes float format\n",
    "print (\"So %d + %d = %10.6f\"%(num1, num2, result))   # %f denotes float format\n",
    "print (\"So %d + %d = %8.2f\"%(num1, num2, result))   # %f denotes float format\n",
    "print (f\"So {num1} + {num2} = {result}\")    # f stands for smart formatting available from Python version 3.7 onwards"
   ]
  },
  {
   "cell_type": "code",
   "execution_count": null,
   "id": "91b0e8e3",
   "metadata": {
    "vscode": {
     "languageId": "plaintext"
    }
   },
   "outputs": [],
   "source": [
    "help(str)"
   ]
  },
  {
   "cell_type": "markdown",
   "id": "5a5e8205-dc20-4bfd-8efe-d311e8755824",
   "metadata": {
    "vscode": {
     "languageId": "plaintext"
    }
   },
   "source": [
    "### Python Artithmetic Operators"
   ]
  },
  {
   "cell_type": "code",
   "execution_count": 30,
   "id": "d786341a",
   "metadata": {
    "vscode": {
     "languageId": "plaintext"
    }
   },
   "outputs": [
    {
     "name": "stdout",
     "output_type": "stream",
     "text": [
      "140\n",
      "60\n",
      "4000\n",
      "2.5\n",
      "2\n",
      "20\n",
      "100000000\n"
     ]
    }
   ],
   "source": [
    "print (100 + 40)    # addition\n",
    "print (100 - 40)    # subtraction\n",
    "print (100 * 40)    # multiplication\n",
    "print (100 / 40)    # float division\n",
    "print (100 // 40)   # integer division\n",
    "print (100 % 40)    # modulus or remainder of the division\n",
    "print (100 ** 4)    # exponentiation, to the power of"
   ]
  },
  {
   "cell_type": "markdown",
   "id": "b7db35bd-3306-4a0b-b612-76b64097085f",
   "metadata": {
    "vscode": {
     "languageId": "plaintext"
    }
   },
   "source": [
    "### Python Logical Operators"
   ]
  },
  {
   "cell_type": "code",
   "execution_count": 33,
   "id": "a25ec27a",
   "metadata": {
    "vscode": {
     "languageId": "plaintext"
    }
   },
   "outputs": [
    {
     "name": "stdout",
     "output_type": "stream",
     "text": [
      "False False False True\n",
      "False True True True\n",
      "True False\n"
     ]
    }
   ],
   "source": [
    "# and, or, not\n",
    "print (False and False, False and True, True and False, True and True)\n",
    "print (False or False, False or True, True or False, True or True)\n",
    "print (not False, not True)"
   ]
  },
  {
   "cell_type": "markdown",
   "id": "c7e23766-8154-43be-9f8f-db18149299ff",
   "metadata": {
    "vscode": {
     "languageId": "plaintext"
    }
   },
   "source": [
    "### Python relational Operators"
   ]
  },
  {
   "cell_type": "code",
   "execution_count": 34,
   "id": "886568fa",
   "metadata": {
    "vscode": {
     "languageId": "plaintext"
    }
   },
   "outputs": [
    {
     "name": "stdout",
     "output_type": "stream",
     "text": [
      "True True True True True True\n"
     ]
    }
   ],
   "source": [
    "print (100 > 20, 100 >= 100, 100 < 300, 300 <= 300, 100 != 300, 100 == 100)"
   ]
  },
  {
   "cell_type": "markdown",
   "id": "03f22031-c579-4a8e-81e3-c8bfc9e807e6",
   "metadata": {},
   "source": [
    "### Python Ternary Operator"
   ]
  },
  {
   "cell_type": "code",
   "execution_count": 65,
   "id": "6dafc3ff-a151-4723-934d-551c2c0bf0d9",
   "metadata": {},
   "outputs": [
    {
     "name": "stdin",
     "output_type": "stream",
     "text": [
      "Please enter an integer number:  100\n"
     ]
    },
    {
     "name": "stdout",
     "output_type": "stream",
     "text": [
      "So 100 is an Even integer number...\n"
     ]
    }
   ],
   "source": [
    "# There are three types of operators:\n",
    "#     1. Unary Operator: Only one operand, example: +100, -200\n",
    "#     2. Binary Operator: Two operands, example: 200 + 100, 300 - 200\n",
    "#     3. Ternary Operator: Three operands, example:\n",
    "num1 = int(input(\"Please enter an integer number: \"))\n",
    "result = \"Even\" if (num1 % 2 == 0) else \"Odd\"    # Example of Ternary Operator\n",
    "print (f\"So {num1} is an {result} integer number...\")"
   ]
  },
  {
   "cell_type": "markdown",
   "id": "88d429fe-d404-4e3b-a1b6-439a85e68330",
   "metadata": {
    "vscode": {
     "languageId": "plaintext"
    }
   },
   "source": [
    "### Python Conditional Statements"
   ]
  },
  {
   "cell_type": "code",
   "execution_count": 45,
   "id": "90114661",
   "metadata": {
    "vscode": {
     "languageId": "plaintext"
    }
   },
   "outputs": [
    {
     "name": "stdin",
     "output_type": "stream",
     "text": [
      "Please enter the first number:  300\n",
      "Please enter the second number:  200\n",
      "Please enter the third number:  100\n"
     ]
    },
    {
     "name": "stdout",
     "output_type": "stream",
     "text": [
      "So the first number is the maximum number...\n",
      "Maximum number is 300...\n",
      "End of the program...\n"
     ]
    }
   ],
   "source": [
    "# try to find the maximum of three user given numbers\n",
    "num1 = int(input(\"Please enter the first number: \"))\n",
    "num2 = int(input(\"Please enter the second number: \"))\n",
    "num3 = int(input(\"Please enter the third number: \"))\n",
    "if (num1 > num2):\n",
    "    if (num1 > num3):\n",
    "        print (\"So the first number is the maximum number...\")\n",
    "        print (f\"Maximum number is {num1}...\")\n",
    "    else:\n",
    "        print (\"So the third number is the maximum number...\")\n",
    "        print (f\"Maximum number is {num3}...\")\n",
    "elif (num2 > num3):    # elif means else if\n",
    "    print (\"So the second number is the maximum number...\")\n",
    "    print (f\"Maximum number is {num2}...\")\n",
    "else:\n",
    "    print (\"So the third number is the maximum number...\")\n",
    "    print (f\"Maximum number is {num3}...\")\n",
    "print (\"End of the program...\")"
   ]
  },
  {
   "cell_type": "code",
   "execution_count": 64,
   "id": "8f07700a-c1f0-4b2a-91f8-e64d16254daf",
   "metadata": {
    "vscode": {
     "languageId": "plaintext"
    }
   },
   "outputs": [
    {
     "name": "stdin",
     "output_type": "stream",
     "text": [
      "Please enter the first number:  300\n",
      "Please enter the second number:  200\n",
      "Please enter the third number:  100\n"
     ]
    },
    {
     "name": "stdout",
     "output_type": "stream",
     "text": [
      "So the first number is the maximum number...\n",
      "Maximum number is 300...\n",
      "End of the program...\n"
     ]
    }
   ],
   "source": [
    "# try to find the maximum of three user given numbers\n",
    "num1 = int(input(\"Please enter the first number: \"));\n",
    "num2 = int(input(\"Please enter the second number: \"));\n",
    "num3 = int(input(\"Please enter the third number: \"));\n",
    "if (num1 > num2):\n",
    "    if (num1 > num3): print (\"So the first number is the maximum number...\"); print (f\"Maximum number is {num1}...\")\n",
    "    else: print (\"So the third number is the maximum number...\"); print (f\"Maximum number is {num3}...\")\n",
    "elif (num2 > num3): print (\"So the second number is the maximum number...\"); print (f\"Maximum number is {num2}...\")\n",
    "else: print (\"So the third number is the maximum number...\"); print (f\"Maximum number is {num3}...\")\n",
    "print (\"End of the program...\")"
   ]
  },
  {
   "cell_type": "code",
   "execution_count": 49,
   "id": "ab3d8f7c",
   "metadata": {
    "vscode": {
     "languageId": "plaintext"
    }
   },
   "outputs": [
    {
     "name": "stdin",
     "output_type": "stream",
     "text": [
      "Please enter the first number:  200\n",
      "Please enter the second number:  300\n",
      "Please enter the third number:  100\n"
     ]
    },
    {
     "name": "stdout",
     "output_type": "stream",
     "text": [
      "So the second number is the maximum number...\n",
      "Maximum number is 300...\n",
      "End of the program...\n"
     ]
    }
   ],
   "source": [
    "# try to find the maximum of three user given numbers\n",
    "num1 = int(input(\"Please enter the first number: \"))\n",
    "num2 = int(input(\"Please enter the second number: \"))\n",
    "num3 = int(input(\"Please enter the third number: \"))\n",
    "if (num1 > num2 and num1 > num3):\n",
    "    print (\"So the first number is the maximum number...\")\n",
    "    print (f\"Maximum number is {num1}...\")\n",
    "elif (num2 > num3):    # elif means else if\n",
    "    print (\"So the second number is the maximum number...\")\n",
    "    print (f\"Maximum number is {num2}...\")\n",
    "else:\n",
    "    print (\"So the third number is the maximum number...\")\n",
    "    print (f\"Maximum number is {num3}...\")\n",
    "print (\"End of the program...\")"
   ]
  },
  {
   "cell_type": "code",
   "execution_count": null,
   "id": "d745d01b",
   "metadata": {
    "vscode": {
     "languageId": "plaintext"
    }
   },
   "outputs": [],
   "source": [
    "Class Assignment:\n",
    "-----------------\n",
    "Take three integer numbers from the user as input. And find the second maximum number out of them and print it."
   ]
  },
  {
   "cell_type": "code",
   "execution_count": 59,
   "id": "fcd804e7",
   "metadata": {
    "vscode": {
     "languageId": "plaintext"
    }
   },
   "outputs": [
    {
     "name": "stdout",
     "output_type": "stream",
     "text": [
      "100 <class 'int'> 2557433810256\n",
      "Tutorial <class 'str'> 2557512968624\n",
      "T <class 'str'> 2557435197232\n",
      "100.45 <class 'float'> 2557540383536\n",
      "True <class 'bool'> 140732972091600\n"
     ]
    }
   ],
   "source": [
    "var = 100\n",
    "print (var, type(var), id(var))\n",
    "var = \"Tutorial\"\n",
    "print (var, type(var), id(var))\n",
    "var = \"T\"\n",
    "print (var, type(var), id(var))\n",
    "var = 100.45\n",
    "print (var, type(var), id(var))\n",
    "var = True\n",
    "print (var, type(var), id(var))"
   ]
  },
  {
   "cell_type": "code",
   "execution_count": null,
   "id": "b5bb94cf",
   "metadata": {},
   "outputs": [],
   "source": [
    "# Calculator Program\n",
    "print (\"M A I N  M E N U ...\")\n",
    "print (\"~~~~~~~~~~~~~~~~~~~~\")\n",
    "print (\"1 >  A D D I T I O N  O P E R A T I O N ...\")\n",
    "print (\"2 >  S U B T R A C T I O N  O P E R A T I O N ...\")\n",
    "print (\"3 >  M U L T I P L I C A T I O N  O P E R A T I O N ...\")\n",
    "print (\"4 >  D I V I S I O N  O P E R A T I O N ...\")\n",
    "choice = int(input(\"Please enter youe choice integer (1 to 4): \"))\n",
    "num1 = int(input(\"Please enter the first integer: \"))\n",
    "num2 = int(input(\"Please enter the second integer: \"))"
   ]
  },
  {
   "cell_type": "markdown",
   "id": "b1483848",
   "metadata": {
    "vscode": {
     "languageId": "plaintext"
    }
   },
   "source": [
    "#### Characters and ASCII Codes"
   ]
  },
  {
   "cell_type": "code",
   "execution_count": null,
   "id": "027a3ccd",
   "metadata": {
    "vscode": {
     "languageId": "plaintext"
    }
   },
   "outputs": [],
   "source": [
    "# ASCII (American Standard Code for Information Interchange) Codes\n",
    "# A => 65, B => 66, Z => 90\n",
    "# a => 97, b => 98, z => 122\n",
    "# 0 => 48, 1 => 49, 9 => 57\n",
    "# Space Bar/Blank => 32, Enter => 13, Esc => 27, Back Space => 9, Tab => 8\n",
    "# ASCII Code is 8 bits code ranging from 0 to 255\n",
    "# It can be divided into two categories:\n",
    "# 1. Normal ASCII Codes (0 to 127) - Printable\n",
    "# 2. Extended ASCII Codes (128 to 255) - Non-Printable\n",
    "print (ord('A'), ord('a'), ord('Z'), ord('z'))  # returns characters to ASCII Codes\n",
    "print (chr(65), chr(97), chr(90), chr(122))     # returns ASCII Codes to characters"
   ]
  },
  {
   "cell_type": "code",
   "execution_count": 20,
   "id": "74cca2be-0847-4bfe-a872-eaa00886f4a6",
   "metadata": {},
   "outputs": [
    {
     "name": "stdout",
     "output_type": "stream",
     "text": [
      "M A I N  M E N U ...\n",
      "~~~~~~~~~~~~~~~~~~~~\n",
      "1 >  A D D I T I O N  O P E R A T I O N ...\n",
      "2 >  S U B T R A C T I O N  O P E R A T I O N ...\n",
      "3 >  M U L T I P L I C A T I O N  O P E R A T I O N ...\n",
      "4 >  D I V I S I O N  O P E R A T I O N ...\n",
      "5 >  E X I T  O P E R A T I O N ...\n"
     ]
    },
    {
     "name": "stdin",
     "output_type": "stream",
     "text": [
      "Please enter youe choice integer (1 to 5):  3\n",
      "Please enter the first integer:  100\n",
      "Please enter the second integer:  40\n"
     ]
    },
    {
     "name": "stdout",
     "output_type": "stream",
     "text": [
      "Performing the multiplication operation...\n",
      "100 * 40 = 4000...\n",
      "End of the program...\n"
     ]
    }
   ],
   "source": [
    "# Calculator Program\n",
    "print (\"M A I N  M E N U ...\")\n",
    "print (\"~~~~~~~~~~~~~~~~~~~~\")\n",
    "print (\"1 >  A D D I T I O N  O P E R A T I O N ...\")\n",
    "print (\"2 >  S U B T R A C T I O N  O P E R A T I O N ...\")\n",
    "print (\"3 >  M U L T I P L I C A T I O N  O P E R A T I O N ...\")\n",
    "print (\"4 >  D I V I S I O N  O P E R A T I O N ...\")\n",
    "print (\"5 >  E X I T  O P E R A T I O N ...\")\n",
    "choice = int(input(\"Please enter youe choice integer (1 to 5): \"))\n",
    "num1 = int(input(\"Please enter the first integer: \"))\n",
    "num2 = int(input(\"Please enter the second integer: \"))\n",
    "if (choice == 1):    # ladder if-statements\n",
    "    print (\"Performing the addition operation...\")\n",
    "    result = num1 + num2\n",
    "    print (f\"{num1} + {num2} = {result}...\")\n",
    "elif (choice == 2):\n",
    "    print (\"Performing the subtraction operation...\")\n",
    "    result = num1 - num2\n",
    "    print (f\"{num1} - {num2} = {result}...\")\n",
    "elif (choice == 3):\n",
    "    print (\"Performing the multiplication operation...\")\n",
    "    result = num1 * num2\n",
    "    print (f\"{num1} * {num2} = {result}...\")\n",
    "elif (choice == 4):\n",
    "    if (num2 == 0):\n",
    "        print (\"Division by ZERO is Illegal...\")\n",
    "        print (\"Can not perform the division operation...\")\n",
    "    else:\n",
    "        print (\"Performing the division operation...\")\n",
    "        result = num1 / num2\n",
    "        print (f\"{num1} / {num2} = {result}...\")\n",
    "elif (choice == 5):\n",
    "    print (\"Performing the exit operation...\")\n",
    "    print(\"Terminating the program...\")\n",
    "else:\n",
    "    print (\"Invalid option number has been provided...\")\n",
    "print (\"End of the program...\")"
   ]
  },
  {
   "cell_type": "markdown",
   "id": "d0f88823-9465-4034-be9e-6647e511fd67",
   "metadata": {},
   "source": [
    "#### Dealing with 'print' statement"
   ]
  },
  {
   "cell_type": "code",
   "execution_count": 12,
   "id": "81bbf338-26e2-4dec-9551-99a258f32113",
   "metadata": {},
   "outputs": [
    {
     "name": "stdout",
     "output_type": "stream",
     "text": [
      "Hello to all and everybody\n",
      "Good afternoon\n"
     ]
    }
   ],
   "source": [
    "print (\"Hello\", \"to all\", \"and everybody\")\n",
    "print (\"Good afternoon\")"
   ]
  },
  {
   "cell_type": "code",
   "execution_count": 11,
   "id": "02229f8f-2430-4072-80ac-cb482b7402c6",
   "metadata": {},
   "outputs": [
    {
     "name": "stdout",
     "output_type": "stream",
     "text": [
      "Help on built-in function print in module builtins:\n",
      "\n",
      "print(...)\n",
      "    print(value, ..., sep=' ', end='\\n', file=sys.stdout, flush=False)\n",
      "    \n",
      "    Prints the values to a stream, or to sys.stdout by default.\n",
      "    Optional keyword arguments:\n",
      "    file:  a file-like object (stream); defaults to the current sys.stdout.\n",
      "    sep:   string inserted between values, default a space.\n",
      "    end:   string appended after the last value, default a newline.\n",
      "    flush: whether to forcibly flush the stream.\n",
      "\n"
     ]
    }
   ],
   "source": [
    "help (print)   # ... ellipsis"
   ]
  },
  {
   "cell_type": "code",
   "execution_count": 14,
   "id": "811cf139-8251-4149-8825-007517306e6e",
   "metadata": {},
   "outputs": [
    {
     "name": "stdout",
     "output_type": "stream",
     "text": [
      "Hello = to all; Good afternoon\n"
     ]
    }
   ],
   "source": [
    "print (\"Hello\", \"to all\", sep = \" = \", end = \"; \")\n",
    "print (\"Good afternoon\")"
   ]
  },
  {
   "cell_type": "code",
   "execution_count": 17,
   "id": "6b6ae363-dc6a-492f-a287-0f5c7f888de8",
   "metadata": {},
   "outputs": [
    {
     "name": "stdout",
     "output_type": "stream",
     "text": [
      "Hello Hello Hello \n",
      "Welcome, Welcome, Welcome, Welcome, Welcome, \n"
     ]
    }
   ],
   "source": [
    "print (\"Hello \" * 3)\n",
    "print (\"Welcome, \" * 5)"
   ]
  },
  {
   "cell_type": "markdown",
   "id": "74510a01-7c8c-402b-bb1c-3b608eb29023",
   "metadata": {
    "vscode": {
     "languageId": "plaintext"
    }
   },
   "source": [
    "### Python Loops"
   ]
  },
  {
   "cell_type": "code",
   "execution_count": 20,
   "id": "d7748f5c",
   "metadata": {
    "vscode": {
     "languageId": "plaintext"
    }
   },
   "outputs": [
    {
     "name": "stdout",
     "output_type": "stream",
     "text": [
      "0 Hello\n",
      "1 Hello\n",
      "2 Hello\n",
      "3 Hello\n",
      "4 Hello\n",
      "5 Hello\n",
      "6 Hello\n",
      "7 Hello\n"
     ]
    }
   ],
   "source": [
    "# for i in range(8):\n",
    "# for i in range(0, 8):\n",
    "for i in range(0, 8, 1):\n",
    "    print (i, \"Hello\")"
   ]
  },
  {
   "cell_type": "code",
   "execution_count": 21,
   "id": "ae89bb90",
   "metadata": {
    "vscode": {
     "languageId": "plaintext"
    }
   },
   "outputs": [
    {
     "name": "stdout",
     "output_type": "stream",
     "text": [
      "0 Hello\n",
      "3 Hello\n",
      "6 Hello\n"
     ]
    }
   ],
   "source": [
    "for i in range(0, 8, 3):\n",
    "    print (i, \"Hello\")"
   ]
  },
  {
   "cell_type": "code",
   "execution_count": 22,
   "id": "a229a431-e8ca-4ab6-b381-58ee7511c806",
   "metadata": {},
   "outputs": [
    {
     "name": "stdout",
     "output_type": "stream",
     "text": [
      "10 Hello\n",
      "7 Hello\n",
      "4 Hello\n",
      "1 Hello\n",
      "-2 Hello\n",
      "-5 Hello\n",
      "-8 Hello\n"
     ]
    }
   ],
   "source": [
    "for i in range(10, -10, -3):\n",
    "    print (i, \"Hello\")"
   ]
  },
  {
   "cell_type": "code",
   "execution_count": 26,
   "id": "bd709cf4-fc14-45b5-9d84-4e9e08344e4e",
   "metadata": {},
   "outputs": [
    {
     "name": "stdout",
     "output_type": "stream",
     "text": [
      "Visit Doctor...\n",
      "Good Morning...\n",
      "Day No. = 1 and Medicine No. = 1...\n",
      "Day No. = 1 and Medicine No. = 2...\n",
      "Day No. = 1 and Medicine No. = 3...\n",
      "Good Night...\n",
      "---------------------------------------------\n",
      "Good Morning...\n",
      "Day No. = 2 and Medicine No. = 1...\n",
      "Day No. = 2 and Medicine No. = 2...\n",
      "Day No. = 2 and Medicine No. = 3...\n",
      "Good Night...\n",
      "---------------------------------------------\n",
      "Good Morning...\n",
      "Day No. = 3 and Medicine No. = 1...\n",
      "Day No. = 3 and Medicine No. = 2...\n",
      "Day No. = 3 and Medicine No. = 3...\n",
      "Good Night...\n",
      "---------------------------------------------\n",
      "Good Morning...\n",
      "Day No. = 4 and Medicine No. = 1...\n",
      "Day No. = 4 and Medicine No. = 2...\n",
      "Day No. = 4 and Medicine No. = 3...\n",
      "Good Night...\n",
      "---------------------------------------------\n",
      "Good Morning...\n",
      "Day No. = 5 and Medicine No. = 1...\n",
      "Day No. = 5 and Medicine No. = 2...\n",
      "Day No. = 5 and Medicine No. = 3...\n",
      "Good Night...\n",
      "---------------------------------------------\n",
      "Thanks to Doctor...\n"
     ]
    }
   ],
   "source": [
    "print (\"Visit Doctor...\")    # 1 time\n",
    "for day in range(1, 6):\n",
    "    print (\"Good Morning...\")    # 5 times\n",
    "    for medi in range(1, 4):\n",
    "        print (f\"Day No. = {day} and Medicine No. = {medi}...\")    # 15 times\n",
    "    print (\"Good Night...\")    # 5 times\n",
    "    print (\"---------------------------------------------\")    # 5 times\n",
    "print (\"Thanks to Doctor...\")    # 1 time"
   ]
  },
  {
   "cell_type": "code",
   "execution_count": null,
   "id": "d99f4211-794a-463a-9a41-c5fc0af5f76a",
   "metadata": {},
   "outputs": [],
   "source": [
    "Pattern - 1\n",
    "-----------\n",
    "\n",
    "n = 6 (number of layers)\n",
    "                i    .    *\n",
    "             -----------------\n",
    ".....*          1    5    1        (i, n)\n",
    "....***         2    4    3   . => (n - i)\n",
    "...*****        3    3    5\n",
    "..*******       4    2    7   * => (2 * i - 1)\n",
    ".*********      5    1    9\n",
    "***********     6    0   11\n",
    "             ----------------\n",
    "              Tracing Table"
   ]
  },
  {
   "cell_type": "code",
   "execution_count": 28,
   "id": "52efa74e-09ac-44a1-bb57-43826296b3d5",
   "metadata": {},
   "outputs": [
    {
     "name": "stdin",
     "output_type": "stream",
     "text": [
      "Please enter the number of layers:  11\n"
     ]
    },
    {
     "name": "stdout",
     "output_type": "stream",
     "text": [
      "..........*\n",
      ".........***\n",
      "........*****\n",
      ".......*******\n",
      "......*********\n",
      ".....***********\n",
      "....*************\n",
      "...***************\n",
      "..*****************\n",
      ".*******************\n",
      "*********************\n",
      "End of the program...\n"
     ]
    }
   ],
   "source": [
    "n = int(input(\"Please enter the number of layers: \"))\n",
    "for i in range(1, n + 1):\n",
    "    print (\".\" * (n - i) + \"*\" * (2 * i - 1))\n",
    "print (\"End of the program...\")"
   ]
  },
  {
   "cell_type": "code",
   "execution_count": null,
   "id": "eaaaaf1c-e27a-4ec4-9030-c6aafd70866b",
   "metadata": {},
   "outputs": [],
   "source": [
    "Pattern - 2\n",
    "-----------\n",
    "\n",
    "n = 11 (ODD number of layers)   m = (n + 1) // 2 = 6\n",
    "                i    .    *\n",
    "             -----------------\n",
    "***********     1    0   11        (i, n, m)\n",
    ".*********      2    1    9   . => (i - 1)\n",
    "..*******       3    2    7\n",
    "...*****        4    3    5   * => (2 * (m - i) + 1)\n",
    "....****        5    4    3\n",
    ".....*       ___6____5____1___\n",
    "....***         7    4    3\n",
    "...*****        8    3    5   . => (n - i)\n",
    "..*******       9    2    7\n",
    ".*********     10    1    9   * => (2 * (i - m) + 1)\n",
    "***********    11    0   11\n",
    "             ----------------"
   ]
  },
  {
   "cell_type": "code",
   "execution_count": 43,
   "id": "176fcda5-742d-42a6-a981-290c36360d41",
   "metadata": {},
   "outputs": [
    {
     "name": "stdin",
     "output_type": "stream",
     "text": [
      "Please enter the ODD number of layers:  12\n",
      "Please enter the ODD number of layers:  14\n",
      "Please enter the ODD number of layers:  16\n",
      "Please enter the ODD number of layers:  11\n"
     ]
    },
    {
     "name": "stdout",
     "output_type": "stream",
     "text": [
      "***********\n",
      ".*********\n",
      "..*******\n",
      "...*****\n",
      "....***\n",
      ".....*\n",
      "....***\n",
      "...*****\n",
      "..*******\n",
      ".*********\n",
      "***********\n",
      "End of the program...\n"
     ]
    }
   ],
   "source": [
    "while (True):\n",
    "    n = int(input(\"Please enter the ODD number of layers: \"))\n",
    "    if (n % 2 == 1): break\n",
    "m = (n + 1) // 2\n",
    "for i in range(1, n + 1):\n",
    "    if (i > m): b = (n - i); s = (2 * (i - m) + 1)\n",
    "    else: b = (i - 1); s = (2 * (m - i) + 1)\n",
    "    print (\".\" * b + \"*\" * s)\n",
    "print (\"End of the program...\")"
   ]
  },
  {
   "cell_type": "code",
   "execution_count": 35,
   "id": "46324479-b371-41b8-aa5d-b26cf3dbf586",
   "metadata": {},
   "outputs": [
    {
     "name": "stdout",
     "output_type": "stream",
     "text": [
      "0 Hello\n",
      "1 Hello\n",
      "2 Hello\n",
      "3 Hello\n",
      "4 Hello\n",
      "5 Hello\n",
      "6 Hello\n",
      "7 Hello\n",
      "Else block is executing...\n",
      "Had a smooth execution...\n",
      "End of the program...\n"
     ]
    }
   ],
   "source": [
    "for i in range(8):\n",
    "    print (i, \"Hello\")\n",
    "else:\n",
    "    print (\"Else block is executing...\")\n",
    "    print (\"Had a smooth execution...\")\n",
    "print (\"End of the program...\")"
   ]
  },
  {
   "cell_type": "code",
   "execution_count": 36,
   "id": "96a8f01a-0d5c-4062-8d27-354f3e027076",
   "metadata": {},
   "outputs": [
    {
     "name": "stdout",
     "output_type": "stream",
     "text": [
      "0 Hello\n",
      "1 Hello\n",
      "2 Hello\n",
      "3 Hello\n",
      "4 Hello\n",
      "5 Hello\n",
      "6 Hello\n",
      "End of the program...\n"
     ]
    }
   ],
   "source": [
    "for i in range(8):\n",
    "    print (i, \"Hello\")\n",
    "    if (i == 6): break\n",
    "else:\n",
    "    print (\"Else block is executing...\")\n",
    "    print (\"Had a smooth execution...\")\n",
    "print (\"End of the program...\")"
   ]
  },
  {
   "cell_type": "code",
   "execution_count": 37,
   "id": "62475738-1080-4492-8969-3ee7db25f04a",
   "metadata": {},
   "outputs": [
    {
     "name": "stdout",
     "output_type": "stream",
     "text": [
      "0 Hello\n",
      "1 Hello\n",
      "2 Hello\n",
      "Continuing with i = 3\n",
      "4 Hello\n",
      "5 Hello\n",
      "Continuing with i = 6\n",
      "7 Hello\n",
      "Else block is executing...\n",
      "Had a smooth execution...\n",
      "End of the program...\n"
     ]
    }
   ],
   "source": [
    "for i in range(8):\n",
    "    if (i == 3 or i == 6):\n",
    "        print (\"Continuing with i =\", i)\n",
    "        continue\n",
    "    print (i, \"Hello\")\n",
    "else:\n",
    "    print (\"Else block is executing...\")\n",
    "    print (\"Had a smooth execution...\")\n",
    "print (\"End of the program...\")"
   ]
  },
  {
   "cell_type": "code",
   "execution_count": 39,
   "id": "08359e3e-ae4f-4ebf-885a-d7ae2b1a014c",
   "metadata": {},
   "outputs": [
    {
     "name": "stdout",
     "output_type": "stream",
     "text": [
      "0 Hello\n",
      "1 Hello\n",
      "2 Hello\n",
      "Continuing with i = 3\n",
      "4 Hello\n",
      "5 Hello\n",
      "Continuing with i = 6\n",
      "7 Hello\n",
      "Else block is executing...\n",
      "Had a smooth execution...\n",
      "End of the program...\n"
     ]
    }
   ],
   "source": [
    "for i in range(8):\n",
    "    if (i == 3 or i == 6):\n",
    "        print (\"Continuing with i =\", i)\n",
    "        continue\n",
    "    else:\n",
    "        pass   # pass is a statement known as statement place holder\n",
    "    print (i, \"Hello\")\n",
    "else:\n",
    "    print (\"Else block is executing...\")\n",
    "    print (\"Had a smooth execution...\")\n",
    "print (\"End of the program...\")"
   ]
  },
  {
   "cell_type": "code",
   "execution_count": 40,
   "id": "83b1a1e0-784c-447a-b55c-793a0ec2d05e",
   "metadata": {},
   "outputs": [
    {
     "name": "stdout",
     "output_type": "stream",
     "text": [
      "0 Hello\n",
      "1 Hello\n",
      "2 Hello\n",
      "Continuing with i = 3\n",
      "4 Hello\n",
      "5 Hello\n",
      "Continuing with i = 6\n",
      "7 Hello\n",
      "Else block is executing...\n",
      "Had a smooth execution...\n",
      "End of the program...\n"
     ]
    }
   ],
   "source": [
    "for i in range(8):\n",
    "    if (i != 3 and i != 6):\n",
    "        pass   # pass is a statement known as statement place holder\n",
    "    else:\n",
    "        print (\"Continuing with i =\", i)\n",
    "        continue\n",
    "    print (i, \"Hello\")\n",
    "else:\n",
    "    print (\"Else block is executing...\")\n",
    "    print (\"Had a smooth execution...\")\n",
    "print (\"End of the program...\")"
   ]
  },
  {
   "cell_type": "code",
   "execution_count": 45,
   "id": "ee559c2c-189d-4804-884b-c4eac28ec48c",
   "metadata": {},
   "outputs": [
    {
     "name": "stdout",
     "output_type": "stream",
     "text": [
      "Looping for i = 1...\n",
      "Looping for i = 2...\n",
      "Looping for i = 3...\n",
      "Looping for i = 4...\n",
      "Looping for i = 5...\n",
      "Looping for i = 6...\n",
      "Looping for i = 7...\n",
      "Looping for i = 8...\n",
      "Executing the ELSE block...\n",
      "Had a smooth execution...\n",
      "End of the program...\n"
     ]
    }
   ],
   "source": [
    "# while loop\n",
    "i = 1\n",
    "while (i <= 8):\n",
    "    print (f\"Looping for i = {i}...\")\n",
    "    i += 1\n",
    "    # i = i + 1\n",
    "else:\n",
    "    print (\"Executing the ELSE block...\")\n",
    "    print (\"Had a smooth execution...\")\n",
    "print (\"End of the program...\")"
   ]
  },
  {
   "cell_type": "code",
   "execution_count": 46,
   "id": "f699afb7-1d94-4437-a720-04b1b2b06d95",
   "metadata": {},
   "outputs": [
    {
     "name": "stdin",
     "output_type": "stream",
     "text": [
      "Please enter the ODD number of layers:  11\n"
     ]
    },
    {
     "name": "stdout",
     "output_type": "stream",
     "text": [
      "***********\n",
      ".*********\n",
      "..*******\n",
      "...*****\n",
      "....***\n",
      ".....*\n",
      "....***\n",
      "...*****\n",
      "..*******\n",
      ".*********\n",
      "***********\n",
      "End of the program...\n"
     ]
    }
   ],
   "source": [
    "while (True):\n",
    "    n = int(input(\"Please enter the ODD number of layers: \"))\n",
    "    if (n % 2 == 1): break\n",
    "m = (n + 1) // 2\n",
    "i = 1\n",
    "while (i <= n):\n",
    "    if (i > m): b = (n - i); s = (2 * (i - m) + 1)\n",
    "    else: b = (i - 1); s = (2 * (m - i) + 1)\n",
    "    print (\".\" * b + \"*\" * s)\n",
    "    i += 1\n",
    "print (\"End of the program...\")"
   ]
  },
  {
   "cell_type": "code",
   "execution_count": 47,
   "id": "ceb7626c-116d-4373-ac70-e30e605cc250",
   "metadata": {},
   "outputs": [
    {
     "name": "stdout",
     "output_type": "stream",
     "text": [
      "Visit Doctor...\n",
      "Good Morning...\n",
      "Day No. = 1 and Medicine No. = 1...\n",
      "Day No. = 1 and Medicine No. = 2...\n",
      "Day No. = 1 and Medicine No. = 3...\n",
      "Good Night...\n",
      "---------------------------------------------\n",
      "Good Morning...\n",
      "Day No. = 2 and Medicine No. = 1...\n",
      "Day No. = 2 and Medicine No. = 2...\n",
      "Day No. = 2 and Medicine No. = 3...\n",
      "Good Night...\n",
      "---------------------------------------------\n",
      "Good Morning...\n",
      "Day No. = 3 and Medicine No. = 1...\n",
      "Day No. = 3 and Medicine No. = 2...\n",
      "Day No. = 3 and Medicine No. = 3...\n",
      "Good Night...\n",
      "---------------------------------------------\n",
      "Good Morning...\n",
      "Day No. = 4 and Medicine No. = 1...\n",
      "Day No. = 4 and Medicine No. = 2...\n",
      "Day No. = 4 and Medicine No. = 3...\n",
      "Good Night...\n",
      "---------------------------------------------\n",
      "Good Morning...\n",
      "Day No. = 5 and Medicine No. = 1...\n",
      "Day No. = 5 and Medicine No. = 2...\n",
      "Day No. = 5 and Medicine No. = 3...\n",
      "Good Night...\n",
      "---------------------------------------------\n",
      "Thanks to Doctor...\n"
     ]
    }
   ],
   "source": [
    "print (\"Visit Doctor...\")    # 1 time\n",
    "day = 1\n",
    "while (day <= 5):\n",
    "    print (\"Good Morning...\")    # 5 times\n",
    "    medi = 1\n",
    "    while (medi <= 3):\n",
    "        print (f\"Day No. = {day} and Medicine No. = {medi}...\")    # 15 times\n",
    "        medi += 1\n",
    "    print (\"Good Night...\")    # 5 times\n",
    "    print (\"---------------------------------------------\")    # 5 times\n",
    "    day += 1\n",
    "print (\"Thanks to Doctor...\")    # 1 time"
   ]
  },
  {
   "cell_type": "markdown",
   "id": "adbc0eb5-69cc-456c-a927-45440a684542",
   "metadata": {},
   "source": [
    "### Expression Evaluation"
   ]
  },
  {
   "cell_type": "code",
   "execution_count": 48,
   "id": "bb36ab01-ba59-420a-8589-640b1590b55b",
   "metadata": {},
   "outputs": [
    {
     "name": "stdin",
     "output_type": "stream",
     "text": [
      "Please enter your expression... 100 + (2 * 3 + 500) * 10\n"
     ]
    },
    {
     "name": "stdout",
     "output_type": "stream",
     "text": [
      "Result against the expression 100 + (2 * 3 + 500) * 10 is 5160...\n",
      "End of the program...\n"
     ]
    }
   ],
   "source": [
    "myexpr = input(\"Please enter your expression...\")    # input: 100 + (2 * 3 + 500) * 10\n",
    "result = eval(myexpr)\n",
    "print (f\"Result against the expression {myexpr} is {result}...\")\n",
    "print (\"End of the program...\")"
   ]
  },
  {
   "cell_type": "markdown",
   "id": "d595bbca-6b26-4f6c-b9f6-85a37480b4da",
   "metadata": {},
   "source": [
    "### Inbuilt Python Collections"
   ]
  },
  {
   "cell_type": "code",
   "execution_count": 50,
   "id": "32f1cddb-3284-4ade-ac94-a1f19e466c85",
   "metadata": {},
   "outputs": [
    {
     "name": "stdout",
     "output_type": "stream",
     "text": [
      "[100, 2.45, True, 'Food', 201] 5 <class 'list'> 2451236705344\n",
      "(100, 2.45, True, 'Food', 201) 5 <class 'tuple'> 2451236537184\n",
      "{'name': 'Bidisha', 'location': 'Noida', 'job': 'Developer', 'company': 'Accenture'} 4 <class 'dict'> 2451236102912\n",
      "{'Delhi', True, 2.45, 100, 201, 'Food'} 6 <class 'set'> 2451235302848\n",
      "frozenset({True, 2.45, 100, 201, 'Delhi', 'Food'}) 6 <class 'frozenset'> 2451235303968\n"
     ]
    }
   ],
   "source": [
    "# different inbuilt collections\n",
    "list1 = [100, 2.45, True, \"Food\", 201]   # mutable\n",
    "print (list1, len(list1), type(list1), id(list1))\n",
    "tuple1 = (100, 2.45, True, \"Food\", 201)   # immutable, read only\n",
    "print (tuple1, len(tuple1), type(tuple1), id(tuple1))\n",
    "dict1 = {'name':'Bidisha', 'location':'Noida', 'job':'Developer', 'company':'Accenture'}    # mutable\n",
    "print (dict1, len(dict1), type(dict1), id(dict1))\n",
    "set1 = {\"Delhi\", 100, 2.45, True, \"Food\", 201, True, \"Food\", 201}    # mutable\n",
    "print (set1, len(set1), type(set1), id(set1))\n",
    "fset1 = frozenset([\"Delhi\", 100, 2.45, True, \"Food\", 201, True, \"Food\", 201])    # immutable, read only\n",
    "print (fset1, len(fset1), type(fset1), id(fset1))"
   ]
  },
  {
   "cell_type": "code",
   "execution_count": 51,
   "id": "ac6b3791-5497-4e75-9529-db79eb9a83a6",
   "metadata": {},
   "outputs": [
    {
     "name": "stdout",
     "output_type": "stream",
     "text": [
      "[] 0 <class 'list'>\n",
      "() 0 <class 'tuple'>\n",
      "{} 0 <class 'dict'>\n",
      "set() 0 <class 'set'>\n"
     ]
    }
   ],
   "source": [
    "# dealing with empty collections\n",
    "var1 = []; print (var1, len(var1), type(var1))\n",
    "var1 = (); print (var1, len(var1), type(var1))\n",
    "var1 = {}; print (var1, len(var1), type(var1))\n",
    "var1 = set(); print (var1, len(var1), type(var1))"
   ]
  },
  {
   "cell_type": "markdown",
   "id": "9c603d20-34c7-43f1-8ba3-201af30d1a76",
   "metadata": {},
   "source": [
    "### User Defined Functions (UDF)"
   ]
  },
  {
   "cell_type": "code",
   "execution_count": 147,
   "id": "ef22326e-b24d-4836-a703-03175c723d68",
   "metadata": {},
   "outputs": [
    {
     "name": "stdout",
     "output_type": "stream",
     "text": [
      "<class 'function'> 2451270851824\n",
      "Welcome Welcome Welcome Welcome Welcome \n",
      "Welcome Welcome Welcome Welcome Welcome \n",
      "Welcome Welcome Welcome Welcome Welcome \n"
     ]
    }
   ],
   "source": [
    "def funct1():\n",
    "    print (\"Welcome \" * 5)\n",
    "    \n",
    "print (type(funct1), id(funct1))\n",
    "funct1()\n",
    "funct1()\n",
    "funct1()"
   ]
  },
  {
   "cell_type": "code",
   "execution_count": 57,
   "id": "30a94a3d-8aef-4c6c-910f-e452ec5689e7",
   "metadata": {},
   "outputs": [
    {
     "name": "stdout",
     "output_type": "stream",
     "text": [
      "Hello Hello Hello Hello Hello Hello \n",
      "Hi !!! Hi !!! Hi !!! \n",
      "Welcome Welcome Welcome Welcome \n"
     ]
    }
   ],
   "source": [
    "def funct2(msg, times):    # positional parameters\n",
    "    print (msg * times)\n",
    "    \n",
    "funct2(\"Hello \", 6)    # positional arguments\n",
    "funct2(\"Hi !!! \", 3)\n",
    "funct2(\"Welcome \", 4)"
   ]
  },
  {
   "cell_type": "code",
   "execution_count": 59,
   "id": "391509c0-a78f-4539-b042-0b8b9878f477",
   "metadata": {},
   "outputs": [
    {
     "name": "stdout",
     "output_type": "stream",
     "text": [
      "Welcome Welcome Welcome Welcome \n",
      "Hello Hello Hello Hello Hello \n"
     ]
    }
   ],
   "source": [
    "def funct3(msg, times):\n",
    "    return msg * times\n",
    "\n",
    "result = funct3(\"Welcome \", 4)\n",
    "print (result)\n",
    "print (funct3(\"Hello \", 5))"
   ]
  },
  {
   "cell_type": "code",
   "execution_count": 69,
   "id": "0103baee-044a-4f79-84b4-7cf6fe55c5f7",
   "metadata": {},
   "outputs": [
    {
     "name": "stdout",
     "output_type": "stream",
     "text": [
      "par1 = 100, par2 = 200, par3 = 300...\n",
      "par1 = 100, par2 = 200, par3 = 333...\n",
      "par1 = 100, par2 = 222, par3 = 333...\n",
      "par1 = 111, par2 = 222, par3 = 333...\n",
      "par1 = 100, par2 = 222, par3 = 300...\n",
      "par1 = 100, par2 = 222, par3 = 300...\n"
     ]
    }
   ],
   "source": [
    "# function for parameters with default arguments\n",
    "def funct4(par1 = 111, par2 = 222, par3 = 333):\n",
    "    print (f\"par1 = {par1}, par2 = {par2}, par3 = {par3}...\")\n",
    "    \n",
    "funct4(100, 200, 300)\n",
    "funct4(100, 200)\n",
    "funct4(100)\n",
    "funct4()\n",
    "funct4(par1 = 100, par3 = 300)\n",
    "funct4(par3 = 300, par1 = 100)"
   ]
  },
  {
   "cell_type": "code",
   "execution_count": 72,
   "id": "04bdc96f-f3ca-4bf8-8e4c-5cb34b5a6358",
   "metadata": {},
   "outputs": [
    {
     "name": "stdout",
     "output_type": "stream",
     "text": [
      "200\n",
      "3000\n"
     ]
    }
   ],
   "source": [
    "def funct5(num1, num2 = None):\n",
    "    # if (num2 == None): return 2 * num1\n",
    "    if (num2 is None): return 2 * num1\n",
    "    else: return num1 + num2\n",
    "\n",
    "print (funct5(100))\n",
    "print (funct5(1000, 2000))"
   ]
  },
  {
   "cell_type": "code",
   "execution_count": 75,
   "id": "a919fec1-c04a-4dba-8a4f-6601f5a489de",
   "metadata": {},
   "outputs": [
    {
     "name": "stdout",
     "output_type": "stream",
     "text": [
      "Total = 140, Difference = 60, Product = 4000 and Quotient = 2.5...\n",
      "(140, 60, 4000, 2.5) 4 <class 'tuple'> 2451265436096\n",
      "Total = 140, Difference = 60, Product = 4000 and Quotient = 2.5...\n"
     ]
    }
   ],
   "source": [
    "def funct6(num1, num2):\n",
    "    total = num1 + num2\n",
    "    difference = num1 - num2\n",
    "    product = num1 * num2\n",
    "    quotient = num1 / num2\n",
    "    return total, difference, product, quotient\n",
    "\n",
    "tt, dd, pp, qq = funct6(100, 40)\n",
    "print (f\"Total = {tt}, Difference = {dd}, Product = {pp} and Quotient = {qq}...\")\n",
    "result = funct6(100, 40)\n",
    "print (result, len(result), type(result), id(result))\n",
    "re = funct6(100, 40)\n",
    "print (f\"Total = {re[0]}, Difference = {re[1]}, Product = {re[2]} and Quotient = {re[3]}...\")"
   ]
  },
  {
   "cell_type": "code",
   "execution_count": 79,
   "id": "9e90ae53-18b7-4ceb-bfe1-72dd4a24257a",
   "metadata": {},
   "outputs": [
    {
     "name": "stdout",
     "output_type": "stream",
     "text": [
      "('Jhon', 'Male', 'California') 3 <class 'tuple'> 2451268335296\n",
      "('Jhon', 'Male', 'California', 40) 4 <class 'tuple'> 2451265660672\n",
      "('Jhon', 'Male', 'California', 40, 'Developer') 5 <class 'tuple'> 2451238206288\n",
      "('Jhon', 'Male', 'California', 40, 'Developer', 'Java') 6 <class 'tuple'> 2451236969472\n"
     ]
    }
   ],
   "source": [
    "# function with variable number of arguments\n",
    "def funct7(*arg):   # *arg => forcefully defining arg as a tuple type of variable\n",
    "    print (arg, len(arg), type(arg), id(arg))\n",
    "    \n",
    "funct7(\"Jhon\", \"Male\", \"California\")\n",
    "funct7(\"Jhon\", \"Male\", \"California\", 40)\n",
    "funct7(\"Jhon\", \"Male\", \"California\", 40, \"Developer\")\n",
    "funct7(\"Jhon\", \"Male\", \"California\", 40, \"Developer\", \"Java\")"
   ]
  },
  {
   "cell_type": "code",
   "execution_count": 81,
   "id": "0b5a70ec-3e05-485b-9b0f-c23d5902a22e",
   "metadata": {},
   "outputs": [
    {
     "name": "stdout",
     "output_type": "stream",
     "text": [
      "{'name': 'John', 'age': 40} 2 <class 'dict'> 2451271395904\n",
      "{'name': 'John', 'age': 40, 'car': 'Ford'} 3 <class 'dict'> 2451271395520\n",
      "{'name': 'John', 'age': 40, 'car': 'Ford', 'address': '21/2'} 4 <class 'dict'> 2451271396032\n"
     ]
    }
   ],
   "source": [
    "def funct8(**kwarg):    # **kwarg => forcefully defining kwarg of key-word argument and of type dictionary\n",
    "    print (kwarg, len(kwarg), type(kwarg), id(kwarg))\n",
    "    \n",
    "funct8(name='John', age=40)\n",
    "funct8(name='John', age=40, car='Ford')\n",
    "funct8(name='John', age=40, car='Ford', address=\"21/2\")"
   ]
  },
  {
   "cell_type": "code",
   "execution_count": 84,
   "id": "49f8c742-781f-46d4-8fa7-177f5edbf746",
   "metadata": {},
   "outputs": [
    {
     "name": "stdout",
     "output_type": "stream",
     "text": [
      "('Jhon', 'Male', 'California') 3 <class 'tuple'> 2451281534912\n",
      "{'company': 'Accenture', 'car': 'Ford', 'address': '21/2'} 3 <class 'dict'> 2451270501632\n",
      "\n",
      "('Jhon', 'Male', 'California') 3 <class 'tuple'> 2451230875328\n",
      "{} 0 <class 'dict'> 2451270501184\n",
      "\n",
      "() 0 <class 'tuple'> 2451156254832\n",
      "{'company': 'Accenture', 'car': 'Ford', 'address': '21/2'} 3 <class 'dict'> 2451265009984\n"
     ]
    }
   ],
   "source": [
    "def funct9(*arg, **kwarg):\n",
    "    print (arg, len(arg), type(arg), id(arg))\n",
    "    print (kwarg, len(kwarg), type(kwarg), id(kwarg))\n",
    "    \n",
    "funct9(\"Jhon\", \"Male\", \"California\", company=\"Accenture\", car='Ford', address=\"21/2\")\n",
    "print ()\n",
    "funct9(\"Jhon\", \"Male\", \"California\")\n",
    "print ()\n",
    "funct9(company=\"Accenture\", car='Ford', address=\"21/2\")"
   ]
  },
  {
   "cell_type": "code",
   "execution_count": 89,
   "id": "f32938b8-bc43-4777-b503-2d71353df9f8",
   "metadata": {},
   "outputs": [
    {
     "name": "stdout",
     "output_type": "stream",
     "text": [
      "2 10\n",
      "3 30\n",
      "4 120\n",
      "120\n",
      "\n",
      "2 12\n",
      "3 36\n",
      "4 144\n",
      "5 720\n",
      "720\n"
     ]
    }
   ],
   "source": [
    "# non-recursive factorial calculating function\n",
    "# 5! = 1 * 2 * 3 * 4 * 5 = 5 * 4 * 3 * 2 * 1 = 120\n",
    "def factorial_nr(num):\n",
    "    if (num == 0 or num == 1): return 1\n",
    "    fact = num\n",
    "    for i in range(2, num):\n",
    "        fact = fact * i\n",
    "        print (i, fact)\n",
    "    return fact\n",
    "    \n",
    "print (factorial_nr(5))\n",
    "print ()\n",
    "print (factorial_nr(6))"
   ]
  },
  {
   "cell_type": "code",
   "execution_count": 91,
   "id": "0f462a3f-b82c-4c6f-899d-15e29d7eea50",
   "metadata": {},
   "outputs": [
    {
     "name": "stdout",
     "output_type": "stream",
     "text": [
      "120\n",
      "720\n"
     ]
    }
   ],
   "source": [
    "# recursive factorial calculating function\n",
    "# 5! = 1 * 2 * 3 * 4 * 5 = 5 * 4 * 3 * 2 * 1 = 120 = 5 * 4!\n",
    "def factorial_r(num):\n",
    "    if (num == 0 or num == 1): return 1   # base case, for certain inputs outputs are pre-known to us\n",
    "    return num * factorial_r(num - 1)     # recursive case, where a function will call itself\n",
    "    \n",
    "print (factorial_r(5))\n",
    "print (factorial_r(6))"
   ]
  },
  {
   "cell_type": "code",
   "execution_count": null,
   "id": "0a94d0ce-cbb5-4a0d-98f7-1f280fb9b1ec",
   "metadata": {},
   "outputs": [],
   "source": [
    "5! = 5 * 4!\n",
    "         4 * 3!\n",
    "             3 * 2!\n",
    "                 2 * 1!\n",
    "                     1\n",
    "                 2\n",
    "             6\n",
    "         24\n",
    "     120"
   ]
  },
  {
   "cell_type": "markdown",
   "id": "ec84602d-ddf4-4470-9ea6-b3f8a111f4d4",
   "metadata": {},
   "source": [
    "#### Lambda Function\n",
    "> In Python programming, a lambda function is a small anonymous function that can have any number of arguments, but can only have one expression. The expression is evaluated and returned as the function result. Lambda functions are commonly used in combination with higher-order functions such as map(), filter(), and reduce().\n",
    "\n",
    "Some of the properties of lambda functions in Python programming include:\n",
    "* **Anonymous:** Lambda functions are anonymous, meaning they do not have a name like regular functions. They are defined using the keyword \"lambda\" followed by the arguments and the expression.\n",
    "* **Single Expression:** A lambda function can only contain a single expression that is evaluated and returned as the function result. This means that it cannot contain multiple statements or control flow structures.\n",
    "* **Concise:** Lambda functions are concise and can be defined in a single line of code. This makes them useful for defining simple functions on-the-fly.\n",
    "* **Immutable:** Lambda functions are immutable, meaning they cannot be modified once defined. This means that you cannot change the behavior of a lambda function after it has been defined.\n",
    "* **Higher-order Functions:** Lambda functions are often used in combination with higher-order functions such as map(), filter(), and reduce(). These functions take other functions as arguments and return new functions as results.\n",
    "* **Memory-efficient:** Lambda functions are memory-efficient since they are defined on-the-fly and do not require a separate function definition. This can be useful when working with large data sets or when memory usage is a concern."
   ]
  },
  {
   "cell_type": "code",
   "execution_count": 93,
   "id": "08a8c668-0678-4651-aa29-4e7fb10bfe1c",
   "metadata": {},
   "outputs": [
    {
     "name": "stdout",
     "output_type": "stream",
     "text": [
      "400\n",
      "<class 'function'> 2451281683952\n"
     ]
    }
   ],
   "source": [
    "result = lambda num: num * num\n",
    "\n",
    "print (result(20))\n",
    "print (type(result), id(result))"
   ]
  },
  {
   "cell_type": "code",
   "execution_count": 94,
   "id": "c6a6ce98-3a68-4115-8494-85e9c78ad91d",
   "metadata": {},
   "outputs": [
    {
     "name": "stdout",
     "output_type": "stream",
     "text": [
      "4000\n",
      "6000\n"
     ]
    }
   ],
   "source": [
    "result = lambda num1, num2: num1 * num2\n",
    "\n",
    "print (result(100, 40))\n",
    "print (result(200, 30))"
   ]
  },
  {
   "cell_type": "code",
   "execution_count": 97,
   "id": "ebf375be-a9f8-42fa-a1a6-8febd8164544",
   "metadata": {},
   "outputs": [
    {
     "name": "stdout",
     "output_type": "stream",
     "text": [
      "120\n",
      "720\n"
     ]
    }
   ],
   "source": [
    "fact = lambda num: 1 if (num == 0 or num == 1) else num * fact(num - 1)\n",
    "\n",
    "print (fact(5))\n",
    "print (fact(6))"
   ]
  },
  {
   "cell_type": "code",
   "execution_count": 98,
   "id": "e9451185-56c6-4db5-80b3-40acc4a7b576",
   "metadata": {},
   "outputs": [
    {
     "name": "stdout",
     "output_type": "stream",
     "text": [
      "30\n",
      "80\n",
      "150\n"
     ]
    }
   ],
   "source": [
    "def funct10(num):\n",
    "    myproduct = lambda n: n * num\n",
    "    return myproduct\n",
    "\n",
    "var10 = funct10(10)\n",
    "var20 = funct10(20)\n",
    "print (var10(3))\n",
    "print (var20(4))\n",
    "print (funct10(30)(5))"
   ]
  },
  {
   "cell_type": "code",
   "execution_count": 99,
   "id": "fb3a6548-487d-4602-92db-bb91d0285fe4",
   "metadata": {},
   "outputs": [
    {
     "name": "stdout",
     "output_type": "stream",
     "text": [
      "10 2451156238864\n",
      "100 2451156241744\n",
      "10 2451156238864\n"
     ]
    }
   ],
   "source": [
    "# using the global keyword\n",
    "def funct11():\n",
    "    i = 100\n",
    "    print (i, id(i))\n",
    "    \n",
    "i = 10\n",
    "print (i, id(i))\n",
    "funct11()\n",
    "print (i, id(i))"
   ]
  },
  {
   "cell_type": "code",
   "execution_count": 100,
   "id": "3e7fc566-08cd-4262-8a90-188437bf7bee",
   "metadata": {},
   "outputs": [
    {
     "name": "stdout",
     "output_type": "stream",
     "text": [
      "10 2451156238864\n",
      "100 2451156241744\n",
      "100 2451156241744\n"
     ]
    }
   ],
   "source": [
    "# using the global keyword\n",
    "def funct11():\n",
    "    global i\n",
    "    i = 100\n",
    "    print (i, id(i))\n",
    "    \n",
    "i = 10\n",
    "print (i, id(i))\n",
    "funct11()\n",
    "print (i, id(i))"
   ]
  },
  {
   "cell_type": "markdown",
   "id": "8584ab50-eb13-474f-9dd2-c934b8be9cc4",
   "metadata": {},
   "source": [
    "## String Processing"
   ]
  },
  {
   "cell_type": "code",
   "execution_count": null,
   "id": "c74dd158-3ef6-411a-9b22-7fac46d0bb82",
   "metadata": {},
   "outputs": [],
   "source": [
    "index left to right ->  0   1   2   3   4   5   6   7   8   9\n",
    "               mystr =  u   n   i   v   e   r   s   i   t   y\n",
    "index right to left ->-10  -9  -8  -7  -6  -5  -4  -3  -2  -1 "
   ]
  },
  {
   "cell_type": "code",
   "execution_count": 101,
   "id": "1d28c399-addd-4952-9b49-ce1615bf9ab9",
   "metadata": {},
   "outputs": [
    {
     "name": "stdout",
     "output_type": "stream",
     "text": [
      "university 10 <class 'str'> 2451270501872\n"
     ]
    }
   ],
   "source": [
    "mystr = \"university\"\n",
    "print (mystr, len(mystr), type(mystr), id(mystr))"
   ]
  },
  {
   "cell_type": "code",
   "execution_count": 102,
   "id": "a2daeaf1-bb7b-4ff6-be71-40042992193b",
   "metadata": {},
   "outputs": [
    {
     "name": "stdout",
     "output_type": "stream",
     "text": [
      "v v i i r r\n"
     ]
    }
   ],
   "source": [
    "print (mystr[3], mystr[-7], mystr[7], mystr[-3], mystr[5], mystr[-5]) # indexing"
   ]
  },
  {
   "cell_type": "code",
   "execution_count": 106,
   "id": "80e2a08e-f795-4a31-b5b9-ebb9d193650b",
   "metadata": {},
   "outputs": [
    {
     "name": "stdout",
     "output_type": "stream",
     "text": [
      "niversi niversi niversi niversi ytisrevinu\n",
      "nvriy uiest uiest\n"
     ]
    }
   ],
   "source": [
    "print (mystr[1:8], mystr[-9:-2], mystr[1:-2], mystr[-9:8], mystr[::-1]) # slicing or sub-string retrieval\n",
    "print (mystr[1::2], mystr[0::2], mystr[::2])"
   ]
  },
  {
   "cell_type": "code",
   "execution_count": 107,
   "id": "8941c806-6ef6-4b9f-9ca3-ca3c72f2947f",
   "metadata": {},
   "outputs": [
    {
     "name": "stdout",
     "output_type": "stream",
     "text": [
      "caLCuTTa unIVerSitY 19 <class 'str'> 2451265425280\n",
      "CALCUTTA UNIVERSITY\n",
      "calcutta university\n",
      "Calcutta University\n",
      "Calcutta university\n",
      "CAlcUttA UNivERsITy\n",
      "          caLCuTTa unIVerSitY           \n",
      "               CALCUTTA UNIVERSITY                \n"
     ]
    }
   ],
   "source": [
    "mystr = \"caLCuTTa unIVerSitY\"\n",
    "print (mystr, len(mystr), type(mystr), id(mystr))\n",
    "print (mystr.upper())\n",
    "print (mystr.lower())\n",
    "print (mystr.title())\n",
    "print (mystr.capitalize())\n",
    "print (mystr.swapcase())\n",
    "print (mystr.center(40))\n",
    "print (mystr.upper().center(50))"
   ]
  },
  {
   "cell_type": "code",
   "execution_count": 109,
   "id": "a93ab8c6-8508-46dd-b9d5-af07e1b9c6fa",
   "metadata": {},
   "outputs": [
    {
     "name": "stdout",
     "output_type": "stream",
     "text": [
      "4 4 11 -1 11\n"
     ]
    }
   ],
   "source": [
    "mystr = \"charity begins at home\"\n",
    "print (mystr.find(\"ity\"), mystr.find(\"i\", 3), mystr.find(\"i\", 5), mystr.find(\"ins\", 11, 13), mystr.find(\"ins\", 11, 15))"
   ]
  },
  {
   "cell_type": "code",
   "execution_count": 110,
   "id": "ae65d3e7-274a-4dd5-bfbb-344d1048bd99",
   "metadata": {},
   "outputs": [
    {
     "name": "stdout",
     "output_type": "stream",
     "text": [
      "4 4 11\n"
     ]
    },
    {
     "ename": "ValueError",
     "evalue": "substring not found",
     "output_type": "error",
     "traceback": [
      "\u001b[1;31m---------------------------------------------------------------------------\u001b[0m",
      "\u001b[1;31mValueError\u001b[0m                                Traceback (most recent call last)",
      "Cell \u001b[1;32mIn[110], line 2\u001b[0m\n\u001b[0;32m      1\u001b[0m \u001b[38;5;28mprint\u001b[39m (mystr\u001b[38;5;241m.\u001b[39mindex(\u001b[38;5;124m\"\u001b[39m\u001b[38;5;124mity\u001b[39m\u001b[38;5;124m\"\u001b[39m), mystr\u001b[38;5;241m.\u001b[39mindex(\u001b[38;5;124m\"\u001b[39m\u001b[38;5;124mi\u001b[39m\u001b[38;5;124m\"\u001b[39m, \u001b[38;5;241m3\u001b[39m), mystr\u001b[38;5;241m.\u001b[39mindex(\u001b[38;5;124m\"\u001b[39m\u001b[38;5;124mi\u001b[39m\u001b[38;5;124m\"\u001b[39m, \u001b[38;5;241m5\u001b[39m))\n\u001b[1;32m----> 2\u001b[0m \u001b[38;5;28mprint\u001b[39m (\u001b[43mmystr\u001b[49m\u001b[38;5;241;43m.\u001b[39;49m\u001b[43mindex\u001b[49m\u001b[43m(\u001b[49m\u001b[38;5;124;43m\"\u001b[39;49m\u001b[38;5;124;43mins\u001b[39;49m\u001b[38;5;124;43m\"\u001b[39;49m\u001b[43m,\u001b[49m\u001b[43m \u001b[49m\u001b[38;5;241;43m11\u001b[39;49m\u001b[43m,\u001b[49m\u001b[43m \u001b[49m\u001b[38;5;241;43m13\u001b[39;49m\u001b[43m)\u001b[49m)\n",
      "\u001b[1;31mValueError\u001b[0m: substring not found"
     ]
    }
   ],
   "source": [
    "print (mystr.index(\"ity\"), mystr.index(\"i\", 3), mystr.index(\"i\", 5))\n",
    "print (mystr.index(\"ins\", 11, 13))"
   ]
  },
  {
   "cell_type": "code",
   "execution_count": 111,
   "id": "dc05106e-e1de-4e42-a296-1ca6833311c5",
   "metadata": {},
   "outputs": [
    {
     "name": "stdout",
     "output_type": "stream",
     "text": [
      "4 4 11\n",
      "Unsuccessful searching has taken place...\n",
      "End of the program...\n"
     ]
    }
   ],
   "source": [
    "try:\n",
    "    mystr = \"charity begins at home\"\n",
    "    print (mystr.index(\"ity\"), mystr.index(\"i\", 3), mystr.index(\"i\", 5))\n",
    "    print (mystr.index(\"ins\", 11, 13))\n",
    "except ValueError as ve:\n",
    "    print (\"Unsuccessful searching has taken place...\")\n",
    "print (\"End of the program...\")"
   ]
  },
  {
   "cell_type": "code",
   "execution_count": 112,
   "id": "2598d490-eed9-4000-81e1-4b24dee67938",
   "metadata": {},
   "outputs": [
    {
     "name": "stdout",
     "output_type": "stream",
     "text": [
      "    calcutta    university      31 <class 'str'> 2451237015584\n",
      "calcutta    university 22 calcutta    university      27     calcutta    university 26\n",
      "calcutta    university calcutta    university      27\n"
     ]
    }
   ],
   "source": [
    "mystr = \"    calcutta    university     \"\n",
    "print (mystr, len(mystr), type(mystr), id(mystr))\n",
    "print (mystr.strip(), len(mystr.strip()), mystr.lstrip(), len(mystr.lstrip()), mystr.rstrip(),\n",
    "       len(mystr.rstrip()))\n",
    "print (mystr.strip(\" \"), mystr.lstrip(\" \"), len(mystr.lstrip(\" \")))"
   ]
  },
  {
   "cell_type": "code",
   "execution_count": 113,
   "id": "0c142bbc-d4d3-4695-a779-acc1cb91a2d2",
   "metadata": {},
   "outputs": [
    {
     "name": "stdout",
     "output_type": "stream",
     "text": [
      "calcutta#@#@university 22 calcutta#@#@university#@@@# ##@@calcutta#@#@university 26\n"
     ]
    }
   ],
   "source": [
    "mystr = \"##@@calcutta#@#@university#@@@#\"\n",
    "print (mystr.strip(\"@#\"), len(mystr.strip(\"@#\")), mystr.lstrip(\"@#\"), mystr.rstrip(\"@#\"),\n",
    "       len(mystr.rstrip(\"@#\")))"
   ]
  },
  {
   "cell_type": "code",
   "execution_count": 114,
   "id": "6b893452-10f3-48de-baa7-bb2f77804620",
   "metadata": {},
   "outputs": [
    {
     "name": "stdout",
     "output_type": "stream",
     "text": [
      "True False True True\n"
     ]
    }
   ],
   "source": [
    "mystr = \"charity begins at home\"\n",
    "print (mystr.startswith(\"cha\"), mystr.startswith(\"beg\"), mystr.startswith(\"beg\", 8),\n",
    "       mystr.startswith(\"beg\", 8, 20))"
   ]
  },
  {
   "cell_type": "code",
   "execution_count": 115,
   "id": "1c97e297-1605-4865-9919-6d9553faf83b",
   "metadata": {},
   "outputs": [
    {
     "name": "stdout",
     "output_type": "stream",
     "text": [
      "True False True\n"
     ]
    }
   ],
   "source": [
    "mystr = \"charity begins at home\"\n",
    "print (mystr.endswith(\"ome\"), mystr.endswith(\"gins\"), mystr.endswith(\"gins\", 0, 14))"
   ]
  },
  {
   "cell_type": "code",
   "execution_count": 116,
   "id": "8890f680-bcc7-47f7-a8bc-6a8449fb9aea",
   "metadata": {},
   "outputs": [
    {
     "name": "stdout",
     "output_type": "stream",
     "text": [
      "m\n",
      "a\n",
      "d\n",
      "a\n",
      "m\n"
     ]
    }
   ],
   "source": [
    "mystr = \"madam\"    # Reading character by character from a string\n",
    "for ch in mystr:\n",
    "    print (ch)"
   ]
  },
  {
   "cell_type": "code",
   "execution_count": 117,
   "id": "6e0d133f-6978-42b0-bdf4-ef5c14f5a188",
   "metadata": {},
   "outputs": [
    {
     "name": "stdout",
     "output_type": "stream",
     "text": [
      "m\n",
      "a\n",
      "d\n",
      "a\n",
      "m\n"
     ]
    }
   ],
   "source": [
    "mystr = \"madam\"\n",
    "for i in range(len(mystr)):\n",
    "    print (mystr[i])"
   ]
  },
  {
   "cell_type": "code",
   "execution_count": 119,
   "id": "7b749567-2df5-4283-94b8-0e1784416015",
   "metadata": {},
   "outputs": [
    {
     "name": "stdout",
     "output_type": "stream",
     "text": [
      "charity begins at home 22 <class 'str'> 2451269925536\n",
      "['charity', 'begins', 'at', 'home']\n",
      "['charity', 'begins', 'at', 'home']\n",
      "['char', 'ty beg', 'ns at home']\n"
     ]
    }
   ],
   "source": [
    "mystr = \"charity begins at home\"\n",
    "print (mystr, len(mystr), type(mystr), id(mystr))\n",
    "list1 = mystr.split()\n",
    "print (list1)\n",
    "list1 = mystr.split(\" \")\n",
    "print (list1)\n",
    "list1 = mystr.split(\"i\")\n",
    "print (list1)"
   ]
  },
  {
   "cell_type": "code",
   "execution_count": 121,
   "id": "73543b3e-1e15-4818-a4a2-7673dfaad88a",
   "metadata": {},
   "outputs": [
    {
     "name": "stdin",
     "output_type": "stream",
     "text": [
      "Enter your all numbers:  11 22 33 22 44 55 66 77 88 234\n"
     ]
    },
    {
     "name": "stdout",
     "output_type": "stream",
     "text": [
      "['11', '22', '33', '22', '44', '55', '66', '77', '88', '234']\n"
     ]
    }
   ],
   "source": [
    "list_num = input(\"Enter your all numbers: \").split()\n",
    "print (list_num)"
   ]
  },
  {
   "cell_type": "code",
   "execution_count": 122,
   "id": "21d53e08-5981-40bc-8c24-d2cfcd546936",
   "metadata": {},
   "outputs": [
    {
     "name": "stdin",
     "output_type": "stream",
     "text": [
      "Enter your all numbers:  11 22 33 22 44 55 66 77 88 234\n"
     ]
    },
    {
     "name": "stdout",
     "output_type": "stream",
     "text": [
      "[11, 22, 33, 22, 44, 55, 66, 77, 88, 234]\n"
     ]
    }
   ],
   "source": [
    "list_num = [int(x) for x in input(\"Enter your all numbers: \").split()]\n",
    "print (list_num)"
   ]
  },
  {
   "cell_type": "code",
   "execution_count": 123,
   "id": "4d5270fb-6717-411d-bb8a-c774fc1ee8fd",
   "metadata": {},
   "outputs": [
    {
     "name": "stdout",
     "output_type": "stream",
     "text": [
      "['charity', 'begins', 'at', 'home'] 4 <class 'list'> 2451272192768\n",
      "charity begins at home\n",
      "charity - begins - at - home\n",
      "charity, begins, at, home\n"
     ]
    }
   ],
   "source": [
    "list1 = ['charity', 'begins', 'at', 'home']\n",
    "print (list1, len(list1), type(list1), id(list1))\n",
    "mystr = \" \".join(list1)\n",
    "print (mystr)\n",
    "mystr = \" - \".join(list1)\n",
    "print (mystr)\n",
    "mystr = \", \".join(list1)\n",
    "print (mystr)"
   ]
  },
  {
   "cell_type": "code",
   "execution_count": 127,
   "id": "f32d5f6f-ac11-440c-aa09-106a4052ddb5",
   "metadata": {},
   "outputs": [
    {
     "name": "stdout",
     "output_type": "stream",
     "text": [
      "True False True\n",
      "True True False\n",
      "True False False\n",
      "False False False\n"
     ]
    }
   ],
   "source": [
    "mystr = \"123\"\n",
    "print (mystr.isalnum(), mystr.isalpha(), mystr.isnumeric())\n",
    "mystr = \"abc\"\n",
    "print (mystr.isalnum(), mystr.isalpha(), mystr.isnumeric())\n",
    "mystr = \"123abc\"\n",
    "print (mystr.isalnum(), mystr.isalpha(), mystr.isnumeric())\n",
    "mystr = \"123@abc\"\n",
    "print (mystr.isalnum(), mystr.isalpha(), mystr.isnumeric())"
   ]
  },
  {
   "cell_type": "code",
   "execution_count": 128,
   "id": "d1b93dec-f410-4a1e-af38-6e1269bbbc22",
   "metadata": {},
   "outputs": [
    {
     "name": "stdout",
     "output_type": "stream",
     "text": [
      "2 1 0\n"
     ]
    }
   ],
   "source": [
    "mystr = \"university\"\n",
    "print (mystr.count(\"i\"), mystr.count(\"v\"), mystr.count(\"I\"))"
   ]
  },
  {
   "cell_type": "code",
   "execution_count": 129,
   "id": "a64481a3-74a6-4fe5-a280-fcd83d91914f",
   "metadata": {},
   "outputs": [
    {
     "name": "stdout",
     "output_type": "stream",
     "text": [
      "unxversxty\n",
      "university\n",
      "unxversxty\n"
     ]
    }
   ],
   "source": [
    "mystr = \"university\"\n",
    "print (mystr.replace(\"i\", \"x\"))\n",
    "print (mystr)\n",
    "mystr = mystr.replace(\"i\", \"x\")\n",
    "print (mystr)"
   ]
  },
  {
   "cell_type": "code",
   "execution_count": 130,
   "id": "9cf7161a-15a4-4e38-a6cd-febbf7e57d64",
   "metadata": {},
   "outputs": [
    {
     "name": "stdout",
     "output_type": "stream",
     "text": [
      "mississippi <class 'str'>\n",
      "['m', 'i', 's', 's', 'i', 's', 's', 'i', 'p', 'p', 'i']\n",
      "('m', 'i', 's', 's', 'i', 's', 's', 'i', 'p', 'p', 'i')\n",
      "{'s', 'i', 'p', 'm'}\n",
      "frozenset({'s', 'i', 'p', 'm'})\n"
     ]
    }
   ],
   "source": [
    "mystr = \"mississippi\"\n",
    "print (mystr, type(mystr))\n",
    "print (list(mystr))\n",
    "print (tuple(mystr))\n",
    "print (set(mystr))\n",
    "print (frozenset(mystr))"
   ]
  },
  {
   "cell_type": "code",
   "execution_count": 138,
   "id": "08618e71-f7b0-4478-b764-3551db1852c7",
   "metadata": {},
   "outputs": [
    {
     "name": "stdout",
     "output_type": "stream",
     "text": [
      "['maRRy', 'thOMPson']\n",
      "M. Thompson\n"
     ]
    }
   ],
   "source": [
    "inputstr = \"maRRy thOMPson\"\n",
    "# outputstr = \"M. Thompson\"\n",
    "mylist = inputstr.split()\n",
    "print (mylist)\n",
    "outputstr = (mylist[0][0] + \". \" + mylist[1]).title()\n",
    "print (outputstr)"
   ]
  },
  {
   "cell_type": "markdown",
   "id": "2905e20c-f364-482c-97d5-1fbf786d28d4",
   "metadata": {},
   "source": [
    "### List Processing"
   ]
  },
  {
   "cell_type": "code",
   "execution_count": 139,
   "id": "7e5f177d-48bc-4412-b58a-05b2e2a034be",
   "metadata": {},
   "outputs": [
    {
     "name": "stdout",
     "output_type": "stream",
     "text": [
      "[100, 400, 300, 200, 700] 5 <class 'list'> 2451268921920\n",
      "700 100\n",
      "1700 340.0\n"
     ]
    }
   ],
   "source": [
    "list1 = [100, 400, 300, 200, 700]\n",
    "print (list1, len(list1), type(list1), id(list1))\n",
    "print (max(list1), min(list1))\n",
    "print (sum(list1), sum(list1) / len(list1))"
   ]
  },
  {
   "cell_type": "code",
   "execution_count": 140,
   "id": "876e1840-b530-405a-a30a-0548b21c5814",
   "metadata": {},
   "outputs": [
    {
     "name": "stdout",
     "output_type": "stream",
     "text": [
      "[100, 400, True, 300, 200, False, 700] 7 <class 'list'> 2451272964480\n",
      "700 False\n",
      "1701 243.0\n"
     ]
    }
   ],
   "source": [
    "list1 = [100, 400, True, 300, 200, False, 700]\n",
    "print (list1, len(list1), type(list1), id(list1))\n",
    "print (max(list1), min(list1))\n",
    "print (sum(list1), sum(list1) / len(list1))"
   ]
  },
  {
   "cell_type": "code",
   "execution_count": 144,
   "id": "5a660902-dae9-4885-8a0a-ea3d299d1f57",
   "metadata": {},
   "outputs": [
    {
     "name": "stdout",
     "output_type": "stream",
     "text": [
      "['sunday', 'monday', 'friday', 'saturday', 'tuesday'] 5 <class 'list'> 2451274435776\n",
      "tuesday friday\n"
     ]
    },
    {
     "ename": "TypeError",
     "evalue": "unsupported operand type(s) for +: 'int' and 'str'",
     "output_type": "error",
     "traceback": [
      "\u001b[1;31m---------------------------------------------------------------------------\u001b[0m",
      "\u001b[1;31mTypeError\u001b[0m                                 Traceback (most recent call last)",
      "Cell \u001b[1;32mIn[144], line 6\u001b[0m\n\u001b[0;32m      4\u001b[0m \u001b[38;5;28mprint\u001b[39m (list1, \u001b[38;5;28mlen\u001b[39m(list1), \u001b[38;5;28mtype\u001b[39m(list1), \u001b[38;5;28mid\u001b[39m(list1))\n\u001b[0;32m      5\u001b[0m \u001b[38;5;28mprint\u001b[39m (\u001b[38;5;28mmax\u001b[39m(list1), \u001b[38;5;28mmin\u001b[39m(list1))\n\u001b[1;32m----> 6\u001b[0m \u001b[38;5;28mprint\u001b[39m (\u001b[38;5;28;43msum\u001b[39;49m\u001b[43m(\u001b[49m\u001b[43mlist1\u001b[49m\u001b[43m)\u001b[49m, \u001b[38;5;28msum\u001b[39m(list1) \u001b[38;5;241m/\u001b[39m \u001b[38;5;28mlen\u001b[39m(list1))\n",
      "\u001b[1;31mTypeError\u001b[0m: unsupported operand type(s) for +: 'int' and 'str'"
     ]
    }
   ],
   "source": [
    "# A to Z => 65 to 90\n",
    "# a to z => 97 + 122\n",
    "list1 = [\"sunday\", \"monday\", 'friday', 'saturday', 'Tuesday']\n",
    "print (list1, len(list1), type(list1), id(list1))\n",
    "print (max(list1), min(list1))\n",
    "print (sum(list1), sum(list1) / len(list1))"
   ]
  },
  {
   "cell_type": "code",
   "execution_count": 145,
   "id": "3468cfd4-d630-45b7-a6eb-b83403793387",
   "metadata": {},
   "outputs": [
    {
     "name": "stdout",
     "output_type": "stream",
     "text": [
      "[100, 400, True, 'Tuesday', 300, 'Wednesday', 200, False, 700] 9 <class 'list'> 2451275411776\n"
     ]
    },
    {
     "ename": "TypeError",
     "evalue": "'>' not supported between instances of 'str' and 'int'",
     "output_type": "error",
     "traceback": [
      "\u001b[1;31m---------------------------------------------------------------------------\u001b[0m",
      "\u001b[1;31mTypeError\u001b[0m                                 Traceback (most recent call last)",
      "Cell \u001b[1;32mIn[145], line 3\u001b[0m\n\u001b[0;32m      1\u001b[0m list1 \u001b[38;5;241m=\u001b[39m [\u001b[38;5;241m100\u001b[39m, \u001b[38;5;241m400\u001b[39m, \u001b[38;5;28;01mTrue\u001b[39;00m, \u001b[38;5;124m\"\u001b[39m\u001b[38;5;124mTuesday\u001b[39m\u001b[38;5;124m\"\u001b[39m, \u001b[38;5;241m300\u001b[39m, \u001b[38;5;124m\"\u001b[39m\u001b[38;5;124mWednesday\u001b[39m\u001b[38;5;124m\"\u001b[39m, \u001b[38;5;241m200\u001b[39m, \u001b[38;5;28;01mFalse\u001b[39;00m, \u001b[38;5;241m700\u001b[39m]\n\u001b[0;32m      2\u001b[0m \u001b[38;5;28mprint\u001b[39m (list1, \u001b[38;5;28mlen\u001b[39m(list1), \u001b[38;5;28mtype\u001b[39m(list1), \u001b[38;5;28mid\u001b[39m(list1))\n\u001b[1;32m----> 3\u001b[0m \u001b[38;5;28mprint\u001b[39m (\u001b[38;5;28;43mmax\u001b[39;49m\u001b[43m(\u001b[49m\u001b[43mlist1\u001b[49m\u001b[43m)\u001b[49m, \u001b[38;5;28mmin\u001b[39m(list1))\n\u001b[0;32m      4\u001b[0m \u001b[38;5;28mprint\u001b[39m (\u001b[38;5;28msum\u001b[39m(list1), \u001b[38;5;28msum\u001b[39m(list1) \u001b[38;5;241m/\u001b[39m \u001b[38;5;28mlen\u001b[39m(list1))\n",
      "\u001b[1;31mTypeError\u001b[0m: '>' not supported between instances of 'str' and 'int'"
     ]
    }
   ],
   "source": [
    "list1 = [100, 400, True, \"Tuesday\", 300, \"Wednesday\", 200, False, 700]\n",
    "print (list1, len(list1), type(list1), id(list1))\n",
    "print (max(list1), min(list1))\n",
    "print (sum(list1), sum(list1) / len(list1))"
   ]
  },
  {
   "cell_type": "code",
   "execution_count": 149,
   "id": "0bd8642b-007f-411e-9415-5658d9d8fe63",
   "metadata": {},
   "outputs": [
    {
     "name": "stdout",
     "output_type": "stream",
     "text": [
      "['Monday', 'Tuesday', 'Wednesday', 'Thursday', 'Friday'] 5 <class 'list'> 2451274589248\n",
      "Wednesday Wednesday Thursday Thursday\n",
      "nes nes\n",
      "onda\n"
     ]
    }
   ],
   "source": [
    "# Indexing and slicing\n",
    "# L to R ->  0         1          2            3           4\n",
    "list1 =    [\"Monday\", \"Tuesday\", \"Wednesday\", \"Thursday\", \"Friday\"]\n",
    "# R to L -> -5        -4         -3           -2          -1\n",
    "print (list1, len(list1), type(list1), id(list1))\n",
    "print (list1[2], list1[-3], list1[3], list1[-2])\n",
    "print (list1[2][3:6], list1[-3][-6:-3])\n",
    "print (list1[0][1:5])"
   ]
  },
  {
   "cell_type": "code",
   "execution_count": 151,
   "id": "74d73a97-fb8e-478d-b564-5d009f782e5e",
   "metadata": {},
   "outputs": [
    {
     "name": "stdout",
     "output_type": "stream",
     "text": [
      "['Monday', 'Tuesday', 'Wednesday', 'Thursday', 'Friday']\n",
      "['Mango', 'Pineapple', 'Guava', 'Lime']\n",
      "['Monday', 'Tuesday', 'Wednesday', 'Thursday', 'Friday', 'Mango', 'Pineapple', 'Guava', 'Lime']\n",
      "['Monday', 'Tuesday', 'Wednesday', 'Thursday', 'Friday', 'Mango', 'Pineapple', 'Guava', 'Lime']\n",
      "['Mango', 'Pineapple', 'Guava', 'Lime']\n"
     ]
    }
   ],
   "source": [
    "list1 = [\"Monday\", \"Tuesday\", \"Wednesday\", \"Thursday\", \"Friday\"]\n",
    "list2 = [\"Mango\", \"Pineapple\", \"Guava\", \"Lime\"]\n",
    "print (list1)\n",
    "print (list2)\n",
    "list3 = list1 + list2    # list concatenation\n",
    "print (list3)\n",
    "list1.extend(list2)      # list concatenation\n",
    "print (list1)\n",
    "print (list2)"
   ]
  },
  {
   "cell_type": "code",
   "execution_count": 153,
   "id": "bf0ec7d9-a609-42a5-b058-e4ff554d24ec",
   "metadata": {},
   "outputs": [
    {
     "name": "stdout",
     "output_type": "stream",
     "text": [
      "['Monday', 'Tuesday', 'Wednesday', 'Thursday', 'Friday']\n",
      "['Mango', 'Pineapple', 'Guava', 'Lime']\n",
      "[['Monday', 'Tuesday', 'Wednesday', 'Thursday', 'Friday'], ['Mango', 'Pineapple', 'Guava', 'Lime']]\n",
      "5 4\n",
      "['Pineapple', 'Guava'] ['Wednesday', 'Thursday'] nes\n"
     ]
    }
   ],
   "source": [
    "list1 = [\"Monday\", \"Tuesday\", \"Wednesday\", \"Thursday\", \"Friday\"]\n",
    "list2 = [\"Mango\", \"Pineapple\", \"Guava\", \"Lime\"]\n",
    "print (list1)\n",
    "print (list2)\n",
    "list3 = [list1, list2]      # list of lists\n",
    "print (list3)\n",
    "print (len(list3[0]), len(list3[1]))\n",
    "print (list3[1][1:3], list3[0][2:4], list3[0][2][3:6])"
   ]
  },
  {
   "cell_type": "code",
   "execution_count": 155,
   "id": "adf35639-4923-4f34-be21-06e89a1ef3da",
   "metadata": {},
   "outputs": [
    {
     "name": "stdout",
     "output_type": "stream",
     "text": [
      "['Mango', 'Pineapple', 'Coconut', 'Banana', 'Lime']\n",
      "['Mango', 'Pineapple', 'Coconut', 'Banana', 'Lime', 'Guava']\n",
      "['Mango', 'Pineapple', 'Coconut', 'Banana', 'Lime', 'Guava', 'Lemon']\n",
      "['Mango', 'pineapple', 'Pineapple', 'Coconut', 'Banana', 'Lime', 'Guava', 'Lemon']\n"
     ]
    }
   ],
   "source": [
    "# insert operation on list\n",
    "list1 = ['Mango', 'Pineapple', 'Coconut', 'Banana', 'Lime']\n",
    "print (list1)\n",
    "list1.append(\"Guava\")\n",
    "print (list1)\n",
    "list1.append(\"Lemon\")\n",
    "print (list1)\n",
    "list1.insert(1, \"pineapple\")\n",
    "print (list1)"
   ]
  },
  {
   "cell_type": "code",
   "execution_count": 168,
   "id": "374ac777-1f7f-4c25-9041-a756f5ec8d6c",
   "metadata": {},
   "outputs": [
    {
     "name": "stdout",
     "output_type": "stream",
     "text": [
      "['Himsagar', 400, 300, 100, 70, 40, True, False]\n"
     ]
    }
   ],
   "source": [
    "# update operation on list\n",
    "list1[0] = \"Himsagar\"\n",
    "print (list1)"
   ]
  },
  {
   "cell_type": "code",
   "execution_count": 158,
   "id": "1d374dec-b81d-41a6-b07a-814b364b544b",
   "metadata": {},
   "outputs": [
    {
     "name": "stdout",
     "output_type": "stream",
     "text": [
      "['Himsagar', 'pineapple', 'Pineapple', 'Coconut', 'Banana', 'Lime', 'Guava', 'Lemon']\n",
      "['Himsagar', 'pineapple', 'Coconut', 'Banana', 'Lime', 'Guava', 'Lemon']\n",
      "Lemon\n",
      "['Himsagar', 'pineapple', 'Coconut', 'Banana', 'Lime', 'Guava']\n",
      "Guava\n",
      "['Himsagar', 'pineapple', 'Coconut', 'Banana', 'Lime']\n",
      "Coconut\n",
      "['Himsagar', 'pineapple', 'Banana', 'Lime']\n"
     ]
    }
   ],
   "source": [
    "# deletion operation on list\n",
    "list1 = ['Himsagar', 'pineapple', 'Pineapple', 'Coconut', 'Banana', 'Lime', 'Guava', 'Lemon']\n",
    "print (list1)\n",
    "list1.remove(\"Pineapple\")\n",
    "print (list1)\n",
    "print (list1.pop())\n",
    "print (list1)\n",
    "print (list1.pop())\n",
    "print (list1)\n",
    "print (list1.pop(2))\n",
    "print (list1)"
   ]
  },
  {
   "cell_type": "code",
   "execution_count": 159,
   "id": "bf1d89f6-fbb9-412b-8b3d-e4396cb91a4b",
   "metadata": {},
   "outputs": [
    {
     "name": "stdout",
     "output_type": "stream",
     "text": [
      "['Himsagar', 'pineapple', 'Pineapple', 'Coconut', 'Banana', 'Lime', 'Guava', 'Lemon']\n",
      "[]\n"
     ]
    }
   ],
   "source": [
    "list1 = ['Himsagar', 'pineapple', 'Pineapple', 'Coconut', 'Banana', 'Lime', 'Guava', 'Lemon']\n",
    "print (list1)\n",
    "list1.clear()\n",
    "print (list1)"
   ]
  },
  {
   "cell_type": "code",
   "execution_count": 160,
   "id": "0caecd1d-ed31-4946-aea6-1ab1dbf40ba3",
   "metadata": {},
   "outputs": [
    {
     "name": "stdout",
     "output_type": "stream",
     "text": [
      "['Himsagar', 'pineapple', 'Pineapple', 'Coconut', 'Banana', 'Lime', 'Guava', 'Lemon']\n"
     ]
    },
    {
     "ename": "NameError",
     "evalue": "name 'list1' is not defined",
     "output_type": "error",
     "traceback": [
      "\u001b[1;31m---------------------------------------------------------------------------\u001b[0m",
      "\u001b[1;31mNameError\u001b[0m                                 Traceback (most recent call last)",
      "Cell \u001b[1;32mIn[160], line 4\u001b[0m\n\u001b[0;32m      2\u001b[0m \u001b[38;5;28mprint\u001b[39m (list1)\n\u001b[0;32m      3\u001b[0m \u001b[38;5;28;01mdel\u001b[39;00m list1\n\u001b[1;32m----> 4\u001b[0m \u001b[38;5;28mprint\u001b[39m (\u001b[43mlist1\u001b[49m)\n",
      "\u001b[1;31mNameError\u001b[0m: name 'list1' is not defined"
     ]
    }
   ],
   "source": [
    "list1 = ['Himsagar', 'pineapple', 'Pineapple', 'Coconut', 'Banana', 'Lime', 'Guava', 'Lemon']\n",
    "print (list1)\n",
    "del list1\n",
    "print (list1)"
   ]
  },
  {
   "cell_type": "code",
   "execution_count": 161,
   "id": "8623f55f-76d0-473d-a99c-f10493517af1",
   "metadata": {},
   "outputs": [
    {
     "name": "stdout",
     "output_type": "stream",
     "text": [
      "['Mango', 'Pineapple', 'Coconut', 'Banana', 'Lime']\n",
      "['Lime', 'Banana', 'Coconut', 'Pineapple', 'Mango']\n"
     ]
    }
   ],
   "source": [
    "# reverse of a list\n",
    "list1 = ['Mango', 'Pineapple', 'Coconut', 'Banana', 'Lime']\n",
    "print (list1)\n",
    "list1.reverse()\n",
    "print (list1)    "
   ]
  },
  {
   "cell_type": "code",
   "execution_count": 162,
   "id": "34745b70-7b69-42a2-8d84-eae5b112ca1f",
   "metadata": {},
   "outputs": [
    {
     "name": "stdout",
     "output_type": "stream",
     "text": [
      "['Mango', 'Pineapple', 'Coconut', 'Banana', 'Lime']\n",
      "['Banana', 'Coconut', 'Lime', 'Mango', 'Pineapple']\n",
      "['Pineapple', 'Mango', 'Lime', 'Coconut', 'Banana']\n"
     ]
    }
   ],
   "source": [
    "# sorting of a list\n",
    "list1 = ['Mango', 'Pineapple', 'Coconut', 'Banana', 'Lime']\n",
    "print (list1)\n",
    "list1.sort()\n",
    "print (list1)\n",
    "\n",
    "list1.sort(reverse = True)\n",
    "print (list1)"
   ]
  },
  {
   "cell_type": "code",
   "execution_count": 164,
   "id": "2f4a2fcd-bf82-4b36-ad04-4d600ed11caf",
   "metadata": {},
   "outputs": [
    {
     "name": "stdout",
     "output_type": "stream",
     "text": [
      "['Mango', 'Pineapple', 'Coconut', 'Banana', 'Lime']\n",
      "['Banana', 'Coconut', 'Lime', 'Mango', 'Pineapple']\n",
      "['Pineapple', 'Mango', 'Lime', 'Coconut', 'Banana']\n"
     ]
    }
   ],
   "source": [
    "list1 = ['Mango', 'Pineapple', 'Coconut', 'Banana', 'Lime']\n",
    "print (list1)\n",
    "list1 = sorted(list1)\n",
    "print (list1)\n",
    "list1 = sorted(list1, reverse = True)\n",
    "print (list1)"
   ]
  },
  {
   "cell_type": "code",
   "execution_count": 167,
   "id": "339c0c1c-4c3a-4b07-8dae-362b75ab9612",
   "metadata": {},
   "outputs": [
    {
     "name": "stdout",
     "output_type": "stream",
     "text": [
      "[100, 400, False, 300, 70, 40, True, 1000]\n",
      "[False, True, 40, 70, 100, 300, 400, 1000]\n",
      "[1000, 400, 300, 100, 70, 40, True, False]\n"
     ]
    }
   ],
   "source": [
    "list1 = [100, 400, False, 300, 70, 40, True, 1000]\n",
    "print (list1)\n",
    "list1 = sorted(list1)\n",
    "print (list1)\n",
    "list1 = sorted(list1, reverse = True)\n",
    "print (list1)"
   ]
  },
  {
   "cell_type": "code",
   "execution_count": 174,
   "id": "224fbff0-799c-4241-8d02-d5a43d831995",
   "metadata": {},
   "outputs": [
    {
     "name": "stdout",
     "output_type": "stream",
     "text": [
      "2\n",
      "1\n",
      "4\n"
     ]
    },
    {
     "ename": "ValueError",
     "evalue": "'Pineapple' is not in list",
     "output_type": "error",
     "traceback": [
      "\u001b[1;31m---------------------------------------------------------------------------\u001b[0m",
      "\u001b[1;31mValueError\u001b[0m                                Traceback (most recent call last)",
      "Cell \u001b[1;32mIn[174], line 5\u001b[0m\n\u001b[0;32m      3\u001b[0m \u001b[38;5;28mprint\u001b[39m (list1\u001b[38;5;241m.\u001b[39mindex(\u001b[38;5;124m\"\u001b[39m\u001b[38;5;124mPineapple\u001b[39m\u001b[38;5;124m\"\u001b[39m))\n\u001b[0;32m      4\u001b[0m \u001b[38;5;28mprint\u001b[39m (list1\u001b[38;5;241m.\u001b[39mindex(\u001b[38;5;124m\"\u001b[39m\u001b[38;5;124mPineapple\u001b[39m\u001b[38;5;124m\"\u001b[39m, \u001b[38;5;241m2\u001b[39m))\n\u001b[1;32m----> 5\u001b[0m \u001b[38;5;28mprint\u001b[39m (\u001b[43mlist1\u001b[49m\u001b[38;5;241;43m.\u001b[39;49m\u001b[43mindex\u001b[49m\u001b[43m(\u001b[49m\u001b[38;5;124;43m\"\u001b[39;49m\u001b[38;5;124;43mPineapple\u001b[39;49m\u001b[38;5;124;43m\"\u001b[39;49m\u001b[43m,\u001b[49m\u001b[43m \u001b[49m\u001b[38;5;241;43m5\u001b[39;49m\u001b[43m)\u001b[49m)\n",
      "\u001b[1;31mValueError\u001b[0m: 'Pineapple' is not in list"
     ]
    }
   ],
   "source": [
    "list1 = ['Mango', 'Pineapple', 'Coconut', 'Banana', 'Pineapple', 'Coconut', 'Banana', 'Lime']\n",
    "print (list1.count('Pineapple'))\n",
    "print (list1.index(\"Pineapple\"))\n",
    "print (list1.index(\"Pineapple\", 2))\n",
    "print (list1.index(\"Pineapple\", 5))"
   ]
  },
  {
   "cell_type": "markdown",
   "id": "59c17b3a-fac7-44f5-87b3-b5fc3204bec6",
   "metadata": {},
   "source": [
    "### Tuple Processing"
   ]
  },
  {
   "cell_type": "code",
   "execution_count": 175,
   "id": "19a89b0b-a3fd-472c-98da-47d798fb2a4e",
   "metadata": {},
   "outputs": [
    {
     "name": "stdout",
     "output_type": "stream",
     "text": [
      "(100, 400, 300, 200, 700) 8 <class 'tuple'> 2451269044000\n",
      "700 100\n",
      "1700 340.0\n"
     ]
    }
   ],
   "source": [
    "tuple1 = (100, 400, 300, 200, 700)\n",
    "print (tuple1, len(list1), type(tuple1), id(tuple1))\n",
    "print (max(tuple1), min(tuple1))\n",
    "print (sum(tuple1), sum(tuple1) / len(tuple1))"
   ]
  },
  {
   "cell_type": "code",
   "execution_count": 177,
   "id": "c869c37e-4ef8-4918-931d-3727961f0d82",
   "metadata": {},
   "outputs": [
    {
     "name": "stdout",
     "output_type": "stream",
     "text": [
      "(100, 400, True, 300, 200, False, 700) 8 <class 'tuple'> 2451278323552\n",
      "700 False\n",
      "1701 243.0\n"
     ]
    }
   ],
   "source": [
    "tuple1 = (100, 400, True, 300, 200, False, 700)\n",
    "print (tuple1, len(list1), type(tuple1), id(tuple1))\n",
    "print (max(tuple1), min(tuple1))\n",
    "print (sum(tuple1), sum(tuple1) / len(tuple1))"
   ]
  },
  {
   "cell_type": "code",
   "execution_count": 178,
   "id": "a8301a28-abe6-483b-ac89-06312634cd66",
   "metadata": {},
   "outputs": [
    {
     "name": "stdout",
     "output_type": "stream",
     "text": [
      "('sunday', 'monday', 'friday', 'saturday', 'Tuesday') 8 <class 'tuple'> 2451268873056\n",
      "sunday Tuesday\n"
     ]
    },
    {
     "ename": "TypeError",
     "evalue": "unsupported operand type(s) for +: 'int' and 'str'",
     "output_type": "error",
     "traceback": [
      "\u001b[1;31m---------------------------------------------------------------------------\u001b[0m",
      "\u001b[1;31mTypeError\u001b[0m                                 Traceback (most recent call last)",
      "Cell \u001b[1;32mIn[178], line 4\u001b[0m\n\u001b[0;32m      2\u001b[0m \u001b[38;5;28mprint\u001b[39m (tuple1, \u001b[38;5;28mlen\u001b[39m(list1), \u001b[38;5;28mtype\u001b[39m(tuple1), \u001b[38;5;28mid\u001b[39m(tuple1))\n\u001b[0;32m      3\u001b[0m \u001b[38;5;28mprint\u001b[39m (\u001b[38;5;28mmax\u001b[39m(tuple1), \u001b[38;5;28mmin\u001b[39m(tuple1))\n\u001b[1;32m----> 4\u001b[0m \u001b[38;5;28mprint\u001b[39m (\u001b[38;5;28;43msum\u001b[39;49m\u001b[43m(\u001b[49m\u001b[43mtuple1\u001b[49m\u001b[43m)\u001b[49m, \u001b[38;5;28msum\u001b[39m(tuple1) \u001b[38;5;241m/\u001b[39m \u001b[38;5;28mlen\u001b[39m(tuple1))\n",
      "\u001b[1;31mTypeError\u001b[0m: unsupported operand type(s) for +: 'int' and 'str'"
     ]
    }
   ],
   "source": [
    "tuple1 = (\"sunday\", \"monday\", 'friday', 'saturday', 'Tuesday')\n",
    "print (tuple1, len(list1), type(tuple1), id(tuple1))\n",
    "print (max(tuple1), min(tuple1))\n",
    "print (sum(tuple1), sum(tuple1) / len(tuple1))"
   ]
  },
  {
   "cell_type": "code",
   "execution_count": 179,
   "id": "ab02136b-abe5-4c1c-abdb-3eea5a081283",
   "metadata": {},
   "outputs": [
    {
     "name": "stdout",
     "output_type": "stream",
     "text": [
      "(100, 400, True, 'Tuesday', 300, 'Wednesday', 200, False, 700) 8 <class 'tuple'> 2451269372224\n"
     ]
    },
    {
     "ename": "TypeError",
     "evalue": "'>' not supported between instances of 'str' and 'int'",
     "output_type": "error",
     "traceback": [
      "\u001b[1;31m---------------------------------------------------------------------------\u001b[0m",
      "\u001b[1;31mTypeError\u001b[0m                                 Traceback (most recent call last)",
      "Cell \u001b[1;32mIn[179], line 3\u001b[0m\n\u001b[0;32m      1\u001b[0m tuple1 \u001b[38;5;241m=\u001b[39m (\u001b[38;5;241m100\u001b[39m, \u001b[38;5;241m400\u001b[39m, \u001b[38;5;28;01mTrue\u001b[39;00m, \u001b[38;5;124m\"\u001b[39m\u001b[38;5;124mTuesday\u001b[39m\u001b[38;5;124m\"\u001b[39m, \u001b[38;5;241m300\u001b[39m, \u001b[38;5;124m\"\u001b[39m\u001b[38;5;124mWednesday\u001b[39m\u001b[38;5;124m\"\u001b[39m, \u001b[38;5;241m200\u001b[39m, \u001b[38;5;28;01mFalse\u001b[39;00m, \u001b[38;5;241m700\u001b[39m)\n\u001b[0;32m      2\u001b[0m \u001b[38;5;28mprint\u001b[39m (tuple1, \u001b[38;5;28mlen\u001b[39m(list1), \u001b[38;5;28mtype\u001b[39m(tuple1), \u001b[38;5;28mid\u001b[39m(tuple1))\n\u001b[1;32m----> 3\u001b[0m \u001b[38;5;28mprint\u001b[39m (\u001b[38;5;28;43mmax\u001b[39;49m\u001b[43m(\u001b[49m\u001b[43mtuple1\u001b[49m\u001b[43m)\u001b[49m, \u001b[38;5;28mmin\u001b[39m(tuple1))\n\u001b[0;32m      4\u001b[0m \u001b[38;5;28mprint\u001b[39m (\u001b[38;5;28msum\u001b[39m(tuple1), \u001b[38;5;28msum\u001b[39m(tuple1) \u001b[38;5;241m/\u001b[39m \u001b[38;5;28mlen\u001b[39m(tuple1))\n",
      "\u001b[1;31mTypeError\u001b[0m: '>' not supported between instances of 'str' and 'int'"
     ]
    }
   ],
   "source": [
    "tuple1 = (100, 400, True, \"Tuesday\", 300, \"Wednesday\", 200, False, 700)\n",
    "print (tuple1, len(list1), type(tuple1), id(tuple1))\n",
    "print (max(tuple1), min(tuple1))\n",
    "print (sum(tuple1), sum(tuple1) / len(tuple1))"
   ]
  },
  {
   "cell_type": "code",
   "execution_count": 180,
   "id": "06217e19-044a-47e3-a3c8-a14dead14ce5",
   "metadata": {},
   "outputs": [
    {
     "name": "stdout",
     "output_type": "stream",
     "text": [
      "Wednesday Wednesday Thursday Thursday\n",
      "nes nes\n"
     ]
    }
   ],
   "source": [
    "# Indexing and slicing\n",
    "# L ro R ->   0         1          2            3           4\n",
    "tuple1 =    (\"Monday\", \"Tuesday\", \"Wednesday\", \"Thursday\", \"Friday\")\n",
    "# R to L ->  -5        -4         -3           -2          -1\n",
    "print (tuple1[2], tuple1[-3], tuple1[3], tuple1[-2])\n",
    "print (tuple1[2][3:6], tuple1[-3][-6:-3])"
   ]
  },
  {
   "cell_type": "code",
   "execution_count": 181,
   "id": "5818fb7a-c559-44dc-8f41-fa76a5f783f1",
   "metadata": {},
   "outputs": [
    {
     "name": "stdout",
     "output_type": "stream",
     "text": [
      "('Monday', 'Tuesday', 'Wednesday', 'Thursday', 'Friday')\n",
      "('Mango', 'Pineapple', 'Guava', 'Lime')\n",
      "('Monday', 'Tuesday', 'Wednesday', 'Thursday', 'Friday', 'Mango', 'Pineapple', 'Guava', 'Lime')\n",
      "(('Monday', 'Tuesday', 'Wednesday', 'Thursday', 'Friday'), ('Mango', 'Pineapple', 'Guava', 'Lime'))\n"
     ]
    }
   ],
   "source": [
    "tuple1 = (\"Monday\", \"Tuesday\", \"Wednesday\", \"Thursday\", \"Friday\")\n",
    "tuple2 = (\"Mango\", \"Pineapple\", \"Guava\", \"Lime\")\n",
    "print (tuple1)\n",
    "print (tuple2)\n",
    "tuple3 = tuple1 + tuple2      # tuple concatenation\n",
    "print (tuple3)\n",
    "tuple3 = (tuple1, tuple2)     # tuple of tuples\n",
    "print (tuple3)"
   ]
  },
  {
   "cell_type": "code",
   "execution_count": 182,
   "id": "792e151a-09a4-4e96-a1a6-510a1895aa98",
   "metadata": {},
   "outputs": [
    {
     "name": "stdout",
     "output_type": "stream",
     "text": [
      "10 <class 'int'>\n",
      "(10,) <class 'tuple'>\n"
     ]
    }
   ],
   "source": [
    "var1 = (10)\n",
    "print (var1, type(var1))\n",
    "var1 = (10,)   # singleton representation of a tuple\n",
    "print (var1, type(var1))"
   ]
  },
  {
   "cell_type": "code",
   "execution_count": 186,
   "id": "70d7b264-a9aa-4812-a245-2170e79b9511",
   "metadata": {},
   "outputs": [
    {
     "name": "stdout",
     "output_type": "stream",
     "text": [
      "('Monday', 'Tuesday', 'Wednesday', 'Thursday', 'Friday') 2451269109776\n",
      "['Monday', 'Tuesday', 'Wednesday', 'Thursday', 'Friday']\n",
      "['Monday', 'Saturday', 'Wednesday', 'Thursday', 'Friday']\n",
      "('Monday', 'Saturday', 'Wednesday', 'Thursday', 'Friday') 2451269113296\n"
     ]
    }
   ],
   "source": [
    "# update operation on a tuple\n",
    "tuple1 = (\"Monday\", \"Tuesday\", \"Wednesday\", \"Thursday\", \"Friday\")\n",
    "print (tuple1, id(tuple1))\n",
    "# tuple1[1] = 'Saturday'\n",
    "list1 = list(tuple1)\n",
    "print (list1)\n",
    "list1[1] = 'Saturday'\n",
    "print (list1)\n",
    "tuple1 = tuple(list1)\n",
    "print (tuple1, id(tuple1))"
   ]
  },
  {
   "cell_type": "code",
   "execution_count": 188,
   "id": "580a8c4f-2282-443e-abca-a67af6b02e10",
   "metadata": {},
   "outputs": [
    {
     "name": "stdout",
     "output_type": "stream",
     "text": [
      "('Monday', 'Tuesday', 'Wednesday', 'Thursday', 'Friday') 2451269111376\n",
      "('Friday', 'Monday', 'Thursday', 'Tuesday', 'Wednesday') 2451269109776\n"
     ]
    }
   ],
   "source": [
    "# sorting on a tuple\n",
    "tuple1 = (\"Monday\", \"Tuesday\", \"Wednesday\", \"Thursday\", \"Friday\")\n",
    "print (tuple1, id(tuple1))\n",
    "tuple2 = tuple(sorted(tuple1))\n",
    "print (tuple2, id(tuple2))"
   ]
  },
  {
   "cell_type": "code",
   "execution_count": 189,
   "id": "14bdc3a6-d197-4a8b-bbbe-961b5a2b8216",
   "metadata": {},
   "outputs": [
    {
     "name": "stdout",
     "output_type": "stream",
     "text": [
      "2 0\n"
     ]
    }
   ],
   "source": [
    "tuple1 = ('Mango', 'Pineapple', 'Coconut', 'Banana', 'Pineapple', 'Coconut', 'Banana', 'Lime')\n",
    "print (tuple1.count('Pineapple'), tuple1.count('Lemon'))"
   ]
  },
  {
   "cell_type": "code",
   "execution_count": 193,
   "id": "3cf48139-faad-4f6b-b020-b8c2c054d5f7",
   "metadata": {},
   "outputs": [
    {
     "name": "stdout",
     "output_type": "stream",
     "text": [
      "1\n",
      "1\n",
      "4\n"
     ]
    },
    {
     "ename": "ValueError",
     "evalue": "tuple.index(x): x not in tuple",
     "output_type": "error",
     "traceback": [
      "\u001b[1;31m---------------------------------------------------------------------------\u001b[0m",
      "\u001b[1;31mValueError\u001b[0m                                Traceback (most recent call last)",
      "Cell \u001b[1;32mIn[193], line 5\u001b[0m\n\u001b[0;32m      3\u001b[0m \u001b[38;5;28mprint\u001b[39m (tuple1\u001b[38;5;241m.\u001b[39mindex(\u001b[38;5;124m\"\u001b[39m\u001b[38;5;124mPineapple\u001b[39m\u001b[38;5;124m\"\u001b[39m, \u001b[38;5;241m0\u001b[39m))\n\u001b[0;32m      4\u001b[0m \u001b[38;5;28mprint\u001b[39m (tuple1\u001b[38;5;241m.\u001b[39mindex(\u001b[38;5;124m\"\u001b[39m\u001b[38;5;124mPineapple\u001b[39m\u001b[38;5;124m\"\u001b[39m, \u001b[38;5;241m2\u001b[39m))\n\u001b[1;32m----> 5\u001b[0m \u001b[38;5;28mprint\u001b[39m (\u001b[43mtuple1\u001b[49m\u001b[38;5;241;43m.\u001b[39;49m\u001b[43mindex\u001b[49m\u001b[43m(\u001b[49m\u001b[38;5;124;43m\"\u001b[39;49m\u001b[38;5;124;43mPineapple\u001b[39;49m\u001b[38;5;124;43m\"\u001b[39;49m\u001b[43m,\u001b[49m\u001b[43m \u001b[49m\u001b[38;5;241;43m5\u001b[39;49m\u001b[43m)\u001b[49m)\n",
      "\u001b[1;31mValueError\u001b[0m: tuple.index(x): x not in tuple"
     ]
    }
   ],
   "source": [
    "tuple1 = ('Mango', 'Pineapple', 'Coconut', 'Banana', 'Pineapple', 'Coconut', 'Banana', 'Lime')\n",
    "print (tuple1.index(\"Pineapple\"))\n",
    "print (tuple1.index(\"Pineapple\", 0))\n",
    "print (tuple1.index(\"Pineapple\", 2))\n",
    "print (tuple1.index(\"Pineapple\", 5))"
   ]
  },
  {
   "cell_type": "markdown",
   "id": "577c0eed-6dc8-42b7-81c4-b44d5bb59dd6",
   "metadata": {},
   "source": [
    "### Dictionary Processing"
   ]
  },
  {
   "cell_type": "code",
   "execution_count": 2,
   "id": "b50d8b90-436a-4fe6-8be1-96dd2d5a7e6a",
   "metadata": {},
   "outputs": [
    {
     "name": "stdout",
     "output_type": "stream",
     "text": [
      "{'apple': 'red', 'pineapple': 'yellow', 'mango': 'red', 'orange': 'orange', 'lime': 'green'} 5 <class 'dict'> 2963339262976\n",
      "dict_keys(['apple', 'pineapple', 'mango', 'orange', 'lime'])\n",
      "dict_values(['red', 'yellow', 'red', 'orange', 'green'])\n",
      "dict_items([('apple', 'red'), ('pineapple', 'yellow'), ('mango', 'red'), ('orange', 'orange'), ('lime', 'green')])\n"
     ]
    }
   ],
   "source": [
    "dict1 = {\"apple\":\"red\", \"pineapple\":\"yellow\", \"mango\":\"green\", \"orange\":\"orange\", \"lime\":\"green\", \"mango\":\"red\"}\n",
    "print (dict1, len(dict1), type(dict1), id(dict1))\n",
    "print (dict1.keys())     # returns list of keys\n",
    "print (dict1.values())   # returns list of values\n",
    "print (dict1.items())    # returns list of tuples"
   ]
  },
  {
   "cell_type": "code",
   "execution_count": 4,
   "id": "4a9d0b0f-5ed1-49fe-acd9-f71c01611716",
   "metadata": {},
   "outputs": [
    {
     "name": "stdout",
     "output_type": "stream",
     "text": [
      "green\n",
      "None\n",
      "green\n",
      "NA\n",
      "Unknown\n"
     ]
    }
   ],
   "source": [
    "dict1 = {\"apple\":\"red\", \"pineapple\":\"yellow\", \"mango\":\"green\", \"orange\":\"orange\"}\n",
    "print (dict1.get('mango'))\n",
    "print (dict1.get('banana'))\n",
    "print (dict1.get('mango', \"NA\"))\n",
    "print (dict1.get('banana', \"NA\"))\n",
    "print (dict1.get('banana', \"Unknown\"))"
   ]
  },
  {
   "cell_type": "code",
   "execution_count": 6,
   "id": "9e090a53-3ba4-43fc-ac60-dd3a497dae98",
   "metadata": {},
   "outputs": [
    {
     "name": "stdout",
     "output_type": "stream",
     "text": [
      "red\n",
      "yellow\n"
     ]
    },
    {
     "ename": "KeyError",
     "evalue": "'lime'",
     "output_type": "error",
     "traceback": [
      "\u001b[1;31m---------------------------------------------------------------------------\u001b[0m",
      "\u001b[1;31mKeyError\u001b[0m                                  Traceback (most recent call last)",
      "Cell \u001b[1;32mIn[6], line 3\u001b[0m\n\u001b[0;32m      1\u001b[0m \u001b[38;5;28mprint\u001b[39m (dict1[\u001b[38;5;124m'\u001b[39m\u001b[38;5;124mapple\u001b[39m\u001b[38;5;124m'\u001b[39m])\n\u001b[0;32m      2\u001b[0m \u001b[38;5;28mprint\u001b[39m (dict1[\u001b[38;5;124m'\u001b[39m\u001b[38;5;124mpineapple\u001b[39m\u001b[38;5;124m'\u001b[39m])\n\u001b[1;32m----> 3\u001b[0m \u001b[38;5;28mprint\u001b[39m (\u001b[43mdict1\u001b[49m\u001b[43m[\u001b[49m\u001b[38;5;124;43m'\u001b[39;49m\u001b[38;5;124;43mlime\u001b[39;49m\u001b[38;5;124;43m'\u001b[39;49m\u001b[43m]\u001b[49m)\n",
      "\u001b[1;31mKeyError\u001b[0m: 'lime'"
     ]
    }
   ],
   "source": [
    "print (dict1['apple'])\n",
    "print (dict1['pineapple'])\n",
    "print (dict1['lime'])"
   ]
  },
  {
   "cell_type": "code",
   "execution_count": 7,
   "id": "4701a3fd-25e4-4903-a442-f23ccaa14527",
   "metadata": {},
   "outputs": [
    {
     "name": "stdout",
     "output_type": "stream",
     "text": [
      "{'apple': 'red', 'pineapple': 'yellow', 'mango': 'green', 'orange': 'orange'} 4 <class 'dict'> 2963367591744\n",
      "{'apple': 'red', 'pineapple': 'yellow', 'mango': 'green', 'orange': 'orange', 'banana': 'yellow'} 5 <class 'dict'> 2963367591744\n",
      "{'apple': 'red', 'pineapple': 'yellow', 'mango': 'red', 'orange': 'orange', 'banana': 'yellow'} 5 <class 'dict'> 2963367591744\n"
     ]
    }
   ],
   "source": [
    "# insert and update operations on a dictionary\n",
    "dict1 = {\"apple\":\"red\", \"pineapple\":\"yellow\", \"mango\":\"green\", \"orange\":\"orange\"}\n",
    "print (dict1, len(dict1), type(dict1), id(dict1))\n",
    "dict1['banana'] = 'yellow'    # insert operation\n",
    "print (dict1, len(dict1), type(dict1), id(dict1))\n",
    "dict1['mango'] = 'red'    # update operation\n",
    "print (dict1, len(dict1), type(dict1), id(dict1))"
   ]
  },
  {
   "cell_type": "code",
   "execution_count": 8,
   "id": "eb833384-2dfe-47b1-837d-ad60b045dce6",
   "metadata": {},
   "outputs": [
    {
     "name": "stdout",
     "output_type": "stream",
     "text": [
      "{'apple': 'red', 'pineapple': 'yellow', 'mango': 'green', 'orange': 'orange'} 4 <class 'dict'> 2963367540736\n",
      "{'apple': 'red', 'pineapple': 'yellow', 'mango': 'green', 'orange': 'orange'} 4 <class 'dict'> 2963367540736\n",
      "{'apple': 'red', 'pineapple': 'yellow', 'mango': 'green', 'orange': 'orange'} 4 <class 'dict'> 2963367540736\n",
      "{'apple': 'red', 'pineapple': 'yellow', 'mango': 'green', 'orange': 'orange', 'banana': 'yellow'} 5 <class 'dict'> 2963367540736\n"
     ]
    }
   ],
   "source": [
    "dict1 = {\"apple\":\"red\", \"pineapple\":\"yellow\", \"mango\":\"green\", \"orange\":\"orange\"}\n",
    "print (dict1, len(dict1), type(dict1), id(dict1))\n",
    "dict1.setdefault(\"apple\", \"deep red\")\n",
    "print (dict1, len(dict1), type(dict1), id(dict1))\n",
    "dict1.setdefault(\"mango\", \"red\")\n",
    "print (dict1, len(dict1), type(dict1), id(dict1))\n",
    "dict1.setdefault(\"banana\", \"yellow\")\n",
    "print (dict1, len(dict1), type(dict1), id(dict1))"
   ]
  },
  {
   "cell_type": "code",
   "execution_count": 9,
   "id": "547d574f-0026-4f4c-a96f-dc214bbcdb91",
   "metadata": {},
   "outputs": [
    {
     "name": "stdout",
     "output_type": "stream",
     "text": [
      "{'apple': 'red', 'pineapple': 'yellow', 'mango': 'green', 'orange': 'orange'} 4 <class 'dict'> 2963367539008\n",
      "yellow\n",
      "{'apple': 'red', 'mango': 'green', 'orange': 'orange'} 3 <class 'dict'> 2963367539008\n",
      "green\n",
      "{'apple': 'red', 'orange': 'orange'} 2 <class 'dict'> 2963367539008\n",
      "red\n",
      "{'orange': 'orange'} 1 <class 'dict'> 2963367539008\n"
     ]
    }
   ],
   "source": [
    "# delete operation on dictionary\n",
    "dict1 = {\"apple\":\"red\", \"pineapple\":\"yellow\", \"mango\":\"green\", \"orange\":\"orange\"}\n",
    "print (dict1, len(dict1), type(dict1), id(dict1))\n",
    "print (dict1.pop('pineapple'))\n",
    "print (dict1, len(dict1), type(dict1), id(dict1))\n",
    "print (dict1.pop('mango'))\n",
    "print (dict1, len(dict1), type(dict1), id(dict1))\n",
    "print (dict1.pop('apple'))\n",
    "print (dict1, len(dict1), type(dict1), id(dict1))"
   ]
  },
  {
   "cell_type": "code",
   "execution_count": 10,
   "id": "aecb9778-acdc-4cba-95b0-8ba888c825b7",
   "metadata": {},
   "outputs": [
    {
     "name": "stdout",
     "output_type": "stream",
     "text": [
      "{'apple': 'red', 'pineapple': 'yellow', 'mango': 'green', 'orange': 'orange'} 4 <class 'dict'> 2963367539904\n",
      "('orange', 'orange')\n",
      "{'apple': 'red', 'pineapple': 'yellow', 'mango': 'green'} 3 <class 'dict'> 2963367539904\n",
      "('mango', 'green')\n",
      "{'apple': 'red', 'pineapple': 'yellow'} 2 <class 'dict'> 2963367539904\n",
      "('pineapple', 'yellow')\n",
      "{'apple': 'red'} 1 <class 'dict'> 2963367539904\n"
     ]
    }
   ],
   "source": [
    "dict1 = {\"apple\":\"red\", \"pineapple\":\"yellow\", \"mango\":\"green\", \"orange\":\"orange\"}\n",
    "print (dict1, len(dict1), type(dict1), id(dict1))\n",
    "print (dict1.popitem())\n",
    "print (dict1, len(dict1), type(dict1), id(dict1))\n",
    "print (dict1.popitem())\n",
    "print (dict1, len(dict1), type(dict1), id(dict1))\n",
    "print (dict1.popitem())\n",
    "print (dict1, len(dict1), type(dict1), id(dict1))"
   ]
  },
  {
   "cell_type": "code",
   "execution_count": 14,
   "id": "d917fe18-8b38-42ac-a100-fe642f8a8456",
   "metadata": {},
   "outputs": [
    {
     "name": "stdout",
     "output_type": "stream",
     "text": [
      "{'apple': 'red', 'pineapple': 'yellow', 'mango': 'green', 'orange': 'orange'} 4 <class 'dict'> 2963368205504\n",
      "{} 0 <class 'dict'> 2963368205504\n"
     ]
    }
   ],
   "source": [
    "dict1 = {\"apple\":\"red\", \"pineapple\":\"yellow\", \"mango\":\"green\", \"orange\":\"orange\"}\n",
    "print (dict1, len(dict1), type(dict1), id(dict1))\n",
    "dict1.clear()\n",
    "print (dict1, len(dict1), type(dict1), id(dict1))"
   ]
  },
  {
   "cell_type": "code",
   "execution_count": 13,
   "id": "ad7d8777-77a2-431e-836f-4313007608b9",
   "metadata": {},
   "outputs": [
    {
     "name": "stdout",
     "output_type": "stream",
     "text": [
      "{'apple': 'red', 'pineapple': 'yellow', 'mango': 'green', 'orange': 'orange'} 4 <class 'dict'> 2963368049728\n"
     ]
    },
    {
     "ename": "NameError",
     "evalue": "name 'dict1' is not defined",
     "output_type": "error",
     "traceback": [
      "\u001b[1;31m---------------------------------------------------------------------------\u001b[0m",
      "\u001b[1;31mNameError\u001b[0m                                 Traceback (most recent call last)",
      "Cell \u001b[1;32mIn[13], line 4\u001b[0m\n\u001b[0;32m      2\u001b[0m \u001b[38;5;28mprint\u001b[39m (dict1, \u001b[38;5;28mlen\u001b[39m(dict1), \u001b[38;5;28mtype\u001b[39m(dict1), \u001b[38;5;28mid\u001b[39m(dict1))\n\u001b[0;32m      3\u001b[0m \u001b[38;5;28;01mdel\u001b[39;00m dict1\n\u001b[1;32m----> 4\u001b[0m \u001b[38;5;28mprint\u001b[39m (\u001b[43mdict1\u001b[49m, \u001b[38;5;28mlen\u001b[39m(dict1), \u001b[38;5;28mtype\u001b[39m(dict1), \u001b[38;5;28mid\u001b[39m(dict1))\n",
      "\u001b[1;31mNameError\u001b[0m: name 'dict1' is not defined"
     ]
    }
   ],
   "source": [
    "dict1 = {\"apple\":\"red\", \"pineapple\":\"yellow\", \"mango\":\"green\", \"orange\":\"orange\"}\n",
    "print (dict1, len(dict1), type(dict1), id(dict1))\n",
    "del dict1\n",
    "print (dict1, len(dict1), type(dict1), id(dict1))"
   ]
  },
  {
   "cell_type": "code",
   "execution_count": 16,
   "id": "23d24be5-87d5-4002-8a8a-1fb456ccfddf",
   "metadata": {},
   "outputs": [
    {
     "name": "stdout",
     "output_type": "stream",
     "text": [
      "{'apple': 'red', 'pineapple': 'yellow'} 2\n",
      "{'mango': 'green', 'orange': 'orange', 'lime': 'green'} 3\n",
      "{'apple': 'red', 'pineapple': 'yellow', 'mango': 'green', 'orange': 'orange', 'lime': 'green'} 5\n",
      "{'mango': 'green', 'orange': 'orange', 'lime': 'green'} 3\n"
     ]
    }
   ],
   "source": [
    "# concatenation of dictionaries\n",
    "fruits1 = {\"apple\":\"red\", \"pineapple\":\"yellow\"}\n",
    "fruits2 = {\"mango\":\"green\", \"orange\":\"orange\", \"lime\":\"green\"}\n",
    "print (fruits1, len(fruits1))\n",
    "print (fruits2, len(fruits2))\n",
    "fruits1.update(fruits2)\n",
    "print (fruits1, len(fruits1))\n",
    "print (fruits2, len(fruits2))"
   ]
  },
  {
   "cell_type": "code",
   "execution_count": 17,
   "id": "efca2697-c334-4de9-8398-84bb59708cb3",
   "metadata": {},
   "outputs": [
    {
     "name": "stdout",
     "output_type": "stream",
     "text": [
      "{'mango': 900, 'pineapple': 900, 'cherry': 900, 'lime': 900} 4 <class 'dict'> 2963371081664\n"
     ]
    }
   ],
   "source": [
    "mykeys = [\"mango\", 'pineapple', \"cherry\", \"lime\"]\n",
    "price = 900\n",
    "dict1 = dict.fromkeys(mykeys, price)\n",
    "print (dict1, len(dict1), type(dict1), id(dict1))"
   ]
  },
  {
   "cell_type": "code",
   "execution_count": 18,
   "id": "2ea1fd9d-53fb-4099-ba44-b5a160e8f33c",
   "metadata": {},
   "outputs": [
    {
     "name": "stdout",
     "output_type": "stream",
     "text": [
      "<zip object at 0x000002B1F6AEB300>\n",
      "[('mango', 100), ('pineapple', 300), ('cherry', 500), ('lime', 200), ('banana', 700)]\n",
      "(('mango', 100), ('pineapple', 300), ('cherry', 500), ('lime', 200), ('banana', 700))\n",
      "{'mango': 100, 'pineapple': 300, 'cherry': 500, 'lime': 200, 'banana': 700}\n",
      "{'mango': 100, 'pineapple': 300, 'cherry': 500, 'lime': 200, 'banana': 700}\n",
      "{'mango': 100, 'pineapple': 300, 'cherry': 500, 'lime': 200, 'banana': 700}\n"
     ]
    }
   ],
   "source": [
    "fruits = [\"mango\", 'pineapple', \"cherry\", \"lime\", \"banana\"]\n",
    "prices = [100, 300, 500, 200, 700, 900]\n",
    "print (zip(fruits, prices))\n",
    "print (list(zip(fruits, prices)))\n",
    "print (tuple(zip(fruits, prices)))\n",
    "print (dict(zip(fruits, prices)))\n",
    "print (dict(list(zip(fruits, prices))))\n",
    "print (dict(tuple(zip(fruits, prices))))"
   ]
  },
  {
   "cell_type": "code",
   "execution_count": 21,
   "id": "68fd02ca-3375-4aad-949a-d61b83c458cb",
   "metadata": {},
   "outputs": [
    {
     "name": "stdout",
     "output_type": "stream",
     "text": [
      "March\n",
      "July\n",
      "November\n",
      "Invalid Month No.\n"
     ]
    }
   ],
   "source": [
    "def switch_case_demo(month_no):\n",
    "    switcher = {1:\"January\", \n",
    "                2:\"February\", \n",
    "                3:\"March\", \n",
    "                4:\"April\", \n",
    "                5:\"May\", \n",
    "                6:\"June\",\n",
    "                7:\"July\", \n",
    "                8:\"August\", \n",
    "                9:\"September\", \n",
    "                10:\"October\", \n",
    "                11:\"November\", \n",
    "                12:\"December\"}\n",
    "    return switcher.get(month_no, \"Invalid Month No.\")\n",
    "\n",
    "print (switch_case_demo(3))\n",
    "print (switch_case_demo(7))\n",
    "print (switch_case_demo(11))\n",
    "print (switch_case_demo(13))"
   ]
  },
  {
   "cell_type": "code",
   "execution_count": 23,
   "id": "497731c9-cdcc-49fe-8eee-3ff7b5d2d023",
   "metadata": {},
   "outputs": [
    {
     "name": "stdout",
     "output_type": "stream",
     "text": [
      "{'apple': 'red', 'pineapple': 'yellow', 'mango': 'green', 'orange': 'orange'} 4 <class 'dict'> 2963382137152\n",
      "{'apple': 'red', 'pineapple': 'yellow', 'mango': 'green', 'orange': 'orange'} 4 <class 'dict'> 2963371113728\n",
      "{'apple': 'red', 'pineapple': 'yellow', 'mango': 'red', 'orange': 'orange'} 4 <class 'dict'> 2963382137152\n",
      "{'apple': 'red', 'pineapple': 'yellow', 'mango': 'green', 'orange': 'deep orange'} 4 <class 'dict'> 2963371113728\n"
     ]
    }
   ],
   "source": [
    "dict1 = {\"apple\":\"red\", \"pineapple\":\"yellow\", \"mango\":\"green\", \"orange\":\"orange\"}\n",
    "print (dict1, len(dict1), type(dict1), id(dict1))\n",
    "dict2 = dict1.copy()\n",
    "print (dict2, len(dict2), type(dict2), id(dict2))\n",
    "dict1['mango'] = \"red\"\n",
    "dict2['orange'] = \"deep orange\"\n",
    "print (dict1, len(dict1), type(dict1), id(dict1))\n",
    "print (dict2, len(dict2), type(dict2), id(dict2))"
   ]
  },
  {
   "cell_type": "markdown",
   "id": "79e80798-fd47-4b05-b10a-ef06eee4162d",
   "metadata": {},
   "source": [
    "### Set Processing"
   ]
  },
  {
   "cell_type": "code",
   "execution_count": 24,
   "id": "6c9a774f-ff7f-40fe-bd4e-ed42eb8b62c4",
   "metadata": {},
   "outputs": [
    {
     "name": "stdout",
     "output_type": "stream",
     "text": [
      "{True, 'Chennai', 38.5, 70000, 'Amitava'} 5 <class 'set'> 2963370893024\n"
     ]
    }
   ],
   "source": [
    "# forming a set from a list\n",
    "list1 = ['Amitava', True, 38.5, 70000, \"Chennai\", True, 38.5, 70000, \"Chennai\", True, 38.5,\n",
    "         70000, \"Chennai\", True, 38.5]\n",
    "set1 = set(list1)\n",
    "print (set1, len(set1), type(set1), id(set1))"
   ]
  },
  {
   "cell_type": "code",
   "execution_count": 25,
   "id": "6d1f5257-6f3a-4fec-acac-59c527bf3090",
   "metadata": {},
   "outputs": [
    {
     "name": "stdout",
     "output_type": "stream",
     "text": [
      "{True, 'Chennai', 38.5, 70000, 'Amitava'} 5 <class 'set'> 2963370086624\n"
     ]
    }
   ],
   "source": [
    "# forming a set from a tuple\n",
    "tuple1 = ('Amitava', True, 38.5, 70000, \"Chennai\", True, 38.5, 70000, \"Chennai\", True, 38.5,\n",
    "          70000, \"Chennai\", True, 38.5)\n",
    "set1 = set(tuple1)\n",
    "print (set1, len(set1), type(set1), id(set1))"
   ]
  },
  {
   "cell_type": "code",
   "execution_count": 26,
   "id": "17dc0f63-3699-44c8-9f4f-6e15f74a7a65",
   "metadata": {},
   "outputs": [
    {
     "name": "stdout",
     "output_type": "stream",
     "text": [
      "{70000, True, 'Chennai', 38.5, 'Amitava'} 5 <class 'set'> 2963370893024\n"
     ]
    }
   ],
   "source": [
    "# forming a set directly\n",
    "set1 = {'Amitava', True, 38.5, 70000, \"Chennai\", True, 38.5, 70000, \"Chennai\", True, 38.5,\n",
    "        70000, \"Chennai\", True, 38.5}\n",
    "print (set1, len(set1), type(set1), id(set1))"
   ]
  },
  {
   "cell_type": "code",
   "execution_count": 29,
   "id": "f32c62b6-d705-46e7-97fb-94e7536947e6",
   "metadata": {},
   "outputs": [
    {
     "name": "stdout",
     "output_type": "stream",
     "text": [
      "{'cobra', 'viper', 'python'} 3 <class 'set'> 2963374524896\n",
      "{'python', 'c++', 'java'} 3 <class 'set'> 2963367807232\n",
      "{'c++', 'cobra', 'viper', 'python', 'java'} 5 <class 'set'> 2963377335296\n",
      "{'c++', 'cobra', 'viper', 'python', 'java'} 5 <class 'set'> 2963377332384\n"
     ]
    }
   ],
   "source": [
    "# set operations: union, intersection, set difference, symmetric difference\n",
    "# union operation\n",
    "snakes = {'viper', 'python', 'cobra'}\n",
    "languages = {'java', 'c++', 'python'}\n",
    "print (snakes, len(snakes), type(snakes), id(snakes))\n",
    "print (languages, len(languages), type(languages), id(languages))\n",
    "result = snakes.union(languages)\n",
    "print (result, len(result), type(result), id(result))\n",
    "result = snakes | languages\n",
    "print (result, len(result), type(result), id(result))"
   ]
  },
  {
   "cell_type": "code",
   "execution_count": 35,
   "id": "f7af3681-7e61-42c2-8a6f-b534a73065df",
   "metadata": {},
   "outputs": [
    {
     "name": "stdout",
     "output_type": "stream",
     "text": [
      "{'cobra', 'viper', 'python'} 3 <class 'set'> 2963376251936\n",
      "{'python', 'c++', 'java'} 3 <class 'set'> 2963375589408\n",
      "{'python'} 1 <class 'set'> 2963375129984\n",
      "{'python'} 1 <class 'set'> 2963374322432\n",
      "\n",
      "{'python'} 1 <class 'set'> 2963376251936\n",
      "{'python', 'c++', 'java'} 3 <class 'set'> 2963375589408\n"
     ]
    }
   ],
   "source": [
    "# intersection operation\n",
    "snakes = {'viper', 'python', 'cobra'}\n",
    "languages = {'java', 'c++', 'python'}\n",
    "print (snakes, len(snakes), type(snakes), id(snakes))\n",
    "print (languages, len(languages), type(languages), id(languages))\n",
    "result = snakes.intersection(languages)\n",
    "print (result, len(result), type(result), id(result))\n",
    "result = snakes & languages\n",
    "print (result, len(result), type(result), id(result))\n",
    "\n",
    "print ()\n",
    "snakes.intersection_update(languages)\n",
    "print (snakes, len(snakes), type(snakes), id(snakes))\n",
    "print (languages, len(languages), type(languages), id(languages))"
   ]
  },
  {
   "cell_type": "code",
   "execution_count": 38,
   "id": "a0fa94e9-3dd6-46fb-871e-525e9be825d3",
   "metadata": {},
   "outputs": [
    {
     "name": "stdout",
     "output_type": "stream",
     "text": [
      "{'cobra', 'viper', 'python'} 3 <class 'set'> 2963380877600\n",
      "{'python', 'c++', 'java'} 3 <class 'set'> 2963378989408\n",
      "{'cobra', 'viper'} 2 <class 'set'> 2963378983136\n",
      "{'cobra', 'viper'} 2 <class 'set'> 2963374865120\n",
      "\n",
      "{'cobra', 'viper'} 2 <class 'set'> 2963380877600\n",
      "{'python', 'c++', 'java'} 3 <class 'set'> 2963378989408\n"
     ]
    }
   ],
   "source": [
    "# difference operation\n",
    "snakes = {'viper', 'python', 'cobra'}\n",
    "languages = {'java', 'c++', 'python'}\n",
    "print (snakes, len(snakes), type(snakes), id(snakes))\n",
    "print (languages, len(languages), type(languages), id(languages))\n",
    "result = snakes.difference(languages)\n",
    "print (result, len(result), type(result), id(result))\n",
    "result = snakes - languages\n",
    "print (result, len(result), type(result), id(result))\n",
    "\n",
    "print ()\n",
    "snakes.difference_update(languages)\n",
    "print (snakes, len(snakes), type(snakes), id(snakes))\n",
    "print (languages, len(languages), type(languages), id(languages))"
   ]
  },
  {
   "cell_type": "code",
   "execution_count": 40,
   "id": "2a839c3b-9e0a-4775-9e14-750423f6380a",
   "metadata": {},
   "outputs": [
    {
     "name": "stdout",
     "output_type": "stream",
     "text": [
      "{'cobra', 'viper', 'python'} 3 <class 'set'> 2963381209344\n",
      "{'python', 'c++', 'java'} 3 <class 'set'> 2963378557152\n",
      "{'cobra', 'viper', 'java', 'c++'} 4 <class 'set'> 2963381888032\n",
      "{'cobra', 'viper', 'java', 'c++'} 4 <class 'set'> 2963378635264\n",
      "\n",
      "{'cobra', 'viper', 'c++', 'java'} 4 <class 'set'> 2963381209344\n",
      "{'python', 'c++', 'java'} 3 <class 'set'> 2963378557152\n"
     ]
    }
   ],
   "source": [
    "# symmetric difference operation\n",
    "snakes = {'viper', 'python', 'cobra'}\n",
    "languages = {'java', 'c++', 'python'}\n",
    "print (snakes, len(snakes), type(snakes), id(snakes))\n",
    "print (languages, len(languages), type(languages), id(languages))\n",
    "result = snakes.symmetric_difference(languages)\n",
    "print (result, len(result), type(result), id(result))\n",
    "result = snakes ^ languages\n",
    "print (result, len(result), type(result), id(result))\n",
    "\n",
    "print ()\n",
    "snakes.symmetric_difference_update(languages)\n",
    "print (snakes, len(snakes), type(snakes), id(snakes))\n",
    "print (languages, len(languages), type(languages), id(languages))"
   ]
  },
  {
   "cell_type": "code",
   "execution_count": 42,
   "id": "c28cd622-7401-490c-a104-7bb25fcabc87",
   "metadata": {},
   "outputs": [
    {
     "name": "stdout",
     "output_type": "stream",
     "text": [
      "False True False\n",
      "False False True\n",
      "True False False\n"
     ]
    }
   ],
   "source": [
    "set1 = {100, 200, 300}\n",
    "set2 = {400, 500, 600, 700, 800}\n",
    "set3 = {600, 700, 800}\n",
    "print (set1.issuperset(set2), set2.issuperset(set3), set3.issuperset(set2))\n",
    "print (set1.issubset(set2), set2.issubset(set3), set3.issubset(set2))\n",
    "print (set1.isdisjoint(set2), set2.isdisjoint(set3), set3.isdisjoint(set2))"
   ]
  },
  {
   "cell_type": "code",
   "execution_count": 45,
   "id": "c7c0a283-ae5c-4614-84f3-0c255fcef833",
   "metadata": {},
   "outputs": [
    {
     "name": "stdout",
     "output_type": "stream",
     "text": [
      "{200, 100, 300} 2963378650496 {200, 100, 300} 2963378293664\n"
     ]
    }
   ],
   "source": [
    "set1 = set([100, 200, 300])\n",
    "set2 = set1.copy()\n",
    "print (set1, id(set1), set2, id(set2))"
   ]
  },
  {
   "cell_type": "code",
   "execution_count": 46,
   "id": "4df7fc39-d64d-4647-b9e2-ae5573e536a0",
   "metadata": {},
   "outputs": [
    {
     "name": "stdout",
     "output_type": "stream",
     "text": [
      "{400, 100, 500, 200, 600, 300} 2963378305536 {200, 100, 300} 2963378293664\n",
      "400\n",
      "{100, 500, 200, 600, 300} 2963378305536 {200, 100, 300} 2963378293664\n",
      "100\n",
      "{500, 200, 600, 300} 2963378305536 {200, 100, 300} 2963378293664\n",
      "500\n",
      "{200, 600, 300} 2963378305536 {200, 100, 300} 2963378293664\n",
      "200\n",
      "{600, 300} 2963378305536 {200, 100, 300} 2963378293664\n"
     ]
    }
   ],
   "source": [
    "set1 = {100, 300, 200, 500, 400, 600}\n",
    "print (set1, id(set1), set2, id(set2))\n",
    "print (set1.pop())\n",
    "print (set1, id(set1), set2, id(set2))\n",
    "print (set1.pop())\n",
    "print (set1, id(set1), set2, id(set2))\n",
    "print (set1.pop())\n",
    "print (set1, id(set1), set2, id(set2))\n",
    "print (set1.pop())\n",
    "print (set1, id(set1), set2, id(set2))"
   ]
  },
  {
   "cell_type": "code",
   "execution_count": 47,
   "id": "a2edff9b-287f-4309-b88e-38094fd4072f",
   "metadata": {},
   "outputs": [
    {
     "name": "stdout",
     "output_type": "stream",
     "text": [
      "{400, 100, 500, 200, 600, 300} 2963378650496 {200, 100, 300} 2963378293664\n",
      "{400, 100, 500, 200, 1000, 600, 300} 2963378650496 {200, 100, 300} 2963378293664\n",
      "{400, 4000, 100, 500, 200, 1000, 600, 300} 2963378650496 {200, 100, 300} 2963378293664\n",
      "{200, 400, 600, 4000, 100, 9000, 1000, 300, 500} 2963378650496 {200, 100, 300} 2963378293664\n"
     ]
    }
   ],
   "source": [
    "# insert operation on a set\n",
    "set1 = {100, 300, 200, 500, 400, 600}\n",
    "print (set1, id(set1), set2, id(set2))\n",
    "set1.add(1000)\n",
    "print (set1, id(set1), set2, id(set2))\n",
    "set1.add(4000)\n",
    "print (set1, id(set1), set2, id(set2))\n",
    "set1.add(9000)\n",
    "print (set1, id(set1), set2, id(set2))"
   ]
  },
  {
   "cell_type": "code",
   "execution_count": 52,
   "id": "7373c542-f64a-414d-b7ed-25cc5069a99e",
   "metadata": {},
   "outputs": [
    {
     "name": "stdout",
     "output_type": "stream",
     "text": [
      "{400, 700, 100, 500, 200, 600, 300} 7 2963374078688\n",
      "{400, 700, 100, 500, 200, 600} 6 2963374078688\n",
      "{400, 700, 100, 500, 200} 5 2963374078688\n",
      "{400, 700, 100, 500, 200} 5 2963374078688\n"
     ]
    }
   ],
   "source": [
    "# delete operation on a set\n",
    "set1 = {100, 200, 300, 600, 700, 500, 400}\n",
    "print (set1, len(set1), id(set1))\n",
    "set1.discard(300)\n",
    "print (set1, len(set1), id(set1))\n",
    "set1.discard(600)\n",
    "print (set1, len(set1), id(set1))\n",
    "set1.discard(1000)\n",
    "print (set1, len(set1), id(set1))"
   ]
  },
  {
   "cell_type": "code",
   "execution_count": 52,
   "id": "9980e00c",
   "metadata": {},
   "outputs": [
    {
     "name": "stdout",
     "output_type": "stream",
     "text": [
      "{400, 700, 100, 500, 200, 600, 300} 7 2963374078688\n",
      "{400, 700, 100, 500, 200, 600} 6 2963374078688\n",
      "{400, 700, 100, 500, 200} 5 2963374078688\n",
      "{400, 700, 100, 500, 200} 5 2963374078688\n"
     ]
    }
   ],
   "source": [
    "# delete operation on a set\n",
    "set1 = {100, 200, 300, 600, 700, 500, 400}\n",
    "print (set1, len(set1), id(set1))\n",
    "set1.discard(300)\n",
    "print (set1, len(set1), id(set1))\n",
    "set1.discard(600)\n",
    "print (set1, len(set1), id(set1))\n",
    "set1.discard(1000)\n",
    "print (set1, len(set1), id(set1))"
   ]
  },
  {
   "cell_type": "code",
   "execution_count": 53,
   "id": "4e2eb140-f235-4c86-8946-3528ef9d0171",
   "metadata": {},
   "outputs": [
    {
     "name": "stdout",
     "output_type": "stream",
     "text": [
      "{400, 700, 100, 500, 200, 600, 300} 7 2963380808480\n",
      "set() 0 2963380808480\n"
     ]
    }
   ],
   "source": [
    "set1 = {100, 200, 300, 600, 700, 500, 400}\n",
    "print (set1, len(set1), id(set1))\n",
    "set1.clear()\n",
    "print (set1, len(set1), id(set1))"
   ]
  },
  {
   "cell_type": "code",
   "execution_count": 54,
   "id": "511725e3-7fb4-4116-9a17-de8f1a2dac4b",
   "metadata": {},
   "outputs": [
    {
     "name": "stdout",
     "output_type": "stream",
     "text": [
      "{400, 700, 100, 500, 200, 600, 300} 7 2963374078688\n"
     ]
    },
    {
     "ename": "NameError",
     "evalue": "name 'set1' is not defined",
     "output_type": "error",
     "traceback": [
      "\u001b[1;31m---------------------------------------------------------------------------\u001b[0m",
      "\u001b[1;31mNameError\u001b[0m                                 Traceback (most recent call last)",
      "Cell \u001b[1;32mIn[54], line 4\u001b[0m\n\u001b[0;32m      2\u001b[0m \u001b[38;5;28mprint\u001b[39m (set1, \u001b[38;5;28mlen\u001b[39m(set1), \u001b[38;5;28mid\u001b[39m(set1))\n\u001b[0;32m      3\u001b[0m \u001b[38;5;28;01mdel\u001b[39;00m set1\n\u001b[1;32m----> 4\u001b[0m \u001b[38;5;28mprint\u001b[39m (\u001b[43mset1\u001b[49m, \u001b[38;5;28mlen\u001b[39m(set1), \u001b[38;5;28mid\u001b[39m(set1))\n",
      "\u001b[1;31mNameError\u001b[0m: name 'set1' is not defined"
     ]
    }
   ],
   "source": [
    "set1 = {100, 200, 300, 600, 700, 500, 400}\n",
    "print (set1, len(set1), id(set1))\n",
    "del set1\n",
    "print (set1, len(set1), id(set1))"
   ]
  },
  {
   "cell_type": "code",
   "execution_count": 55,
   "id": "afcad950-1606-4a10-97d3-a5fce53306af",
   "metadata": {},
   "outputs": [
    {
     "name": "stdout",
     "output_type": "stream",
     "text": [
      "{400, 700, 100, 500, 200, 600, 300} 7 2963374078688\n",
      "{400, 700, 100, 500, 200, 300} 6 2963374078688\n",
      "{400, 1600, 700, 100, 500, 200, 300} 7 2963374078688\n"
     ]
    }
   ],
   "source": [
    "# update operation on a set\n",
    "set1 = {100, 200, 300, 600, 700, 500, 400}\n",
    "print (set1, len(set1), id(set1))\n",
    "set1.remove(600)   # deleting the item\n",
    "print (set1, len(set1), id(set1))\n",
    "set1.add(1600)   # inserting the item\n",
    "print (set1, len(set1), id(set1))"
   ]
  },
  {
   "cell_type": "code",
   "execution_count": 56,
   "id": "b432c727-e990-4734-991b-feb6ada0b711",
   "metadata": {},
   "outputs": [
    {
     "name": "stdout",
     "output_type": "stream",
     "text": [
      "{200, 100, 300} 3 2963381889600\n",
      "{400, 700, 500, 600, 300} 5 2963374078688\n",
      "{100, 200, 300, 400, 500, 600, 700} 7 2963381889600\n",
      "{400, 700, 500, 600, 300} 5 2963374078688\n"
     ]
    }
   ],
   "source": [
    "# concatenating two sets\n",
    "set1 = {100, 200, 300}\n",
    "set2 = {300, 600, 700, 500, 400}\n",
    "print (set1, len(set1), id(set1))\n",
    "print (set2, len(set2), id(set2))\n",
    "set1.update(set2)\n",
    "print (set1, len(set1), id(set1))\n",
    "print (set2, len(set2), id(set2))"
   ]
  },
  {
   "cell_type": "markdown",
   "id": "7d1155c0-568f-4a54-b91b-7196b837ad22",
   "metadata": {},
   "source": [
    "### Frozen Set Processing"
   ]
  },
  {
   "cell_type": "code",
   "execution_count": 27,
   "id": "9d18c839-7b9f-45ac-8456-9d344bb43b80",
   "metadata": {},
   "outputs": [
    {
     "name": "stdout",
     "output_type": "stream",
     "text": [
      "frozenset({True, 'Chennai', 38.5, 70000, 'Amitava'}) 5 <class 'frozenset'> 2963367807232\n"
     ]
    }
   ],
   "source": [
    "# forming a frozen set from a list\n",
    "list1 = ['Amitava', True, 38.5, 70000, \"Chennai\", True, 38.5, 70000, \"Chennai\", True, 38.5,\n",
    "         70000, \"Chennai\", True, 38.5]\n",
    "set1 = frozenset(list1)\n",
    "print (set1, len(set1), type(set1), id(set1))"
   ]
  },
  {
   "cell_type": "code",
   "execution_count": 28,
   "id": "57633ef8-d1db-44e3-828f-576b66ae5d58",
   "metadata": {},
   "outputs": [
    {
     "name": "stdout",
     "output_type": "stream",
     "text": [
      "frozenset({True, 'Chennai', 38.5, 70000, 'Amitava'}) 5 <class 'frozenset'> 2963370086624\n"
     ]
    }
   ],
   "source": [
    "# forming a frozen set from a tuple\n",
    "tuple1 = ('Amitava', True, 38.5, 70000, \"Chennai\", True, 38.5, 70000, \"Chennai\", True, 38.5,\n",
    "          70000, \"Chennai\", True, 38.5)\n",
    "set1 = frozenset(tuple1)\n",
    "print (set1, len(set1), type(set1), id(set1))"
   ]
  },
  {
   "cell_type": "code",
   "execution_count": 31,
   "id": "f80c1ac2-2b29-4c16-9d16-0769138e8a78",
   "metadata": {},
   "outputs": [
    {
     "name": "stdout",
     "output_type": "stream",
     "text": [
      "frozenset({'cobra', 'viper', 'python'}) 3 <class 'frozenset'> 2963381887360\n",
      "frozenset({'python', 'c++', 'java'}) 3 <class 'frozenset'> 2963374309440\n",
      "frozenset({'c++', 'cobra', 'viper', 'python', 'java'}) 5 <class 'frozenset'> 2963374324000\n",
      "frozenset({'c++', 'cobra', 'viper', 'python', 'java'}) 5 <class 'frozenset'> 2963377335296\n"
     ]
    }
   ],
   "source": [
    "# frozen set operations: union, intersection, set difference, symmetric difference\n",
    "# union operation\n",
    "snakes = frozenset(['viper', 'python', 'cobra'])\n",
    "languages = frozenset(['java', 'c++', 'python'])\n",
    "print (snakes, len(snakes), type(snakes), id(snakes))\n",
    "print (languages, len(languages), type(languages), id(languages))\n",
    "result = snakes.union(languages)\n",
    "print (result, len(result), type(result), id(result))\n",
    "result = snakes | languages\n",
    "print (result, len(result), type(result), id(result))"
   ]
  },
  {
   "cell_type": "code",
   "execution_count": 37,
   "id": "83be0e42-7d0b-43a9-b4c9-4a7e8e7a1883",
   "metadata": {},
   "outputs": [
    {
     "name": "stdout",
     "output_type": "stream",
     "text": [
      "frozenset({'cobra', 'viper', 'python'}) 3 <class 'frozenset'> 2963381881760\n",
      "frozenset({'python', 'c++', 'java'}) 3 <class 'frozenset'> 2963374322208\n",
      "frozenset({'python'}) 1 <class 'frozenset'> 2963378565440\n",
      "frozenset({'python'}) 1 <class 'frozenset'> 2963375129984\n",
      "frozenset({'cobra', 'viper', 'python'}) 3 <class 'frozenset'> 2963381881760\n",
      "frozenset({'python', 'c++', 'java'}) 3 <class 'frozenset'> 2963374322208\n"
     ]
    }
   ],
   "source": [
    "# intersection operation\n",
    "snakes = frozenset(['viper', 'python', 'cobra'])\n",
    "languages = frozenset(['java', 'c++', 'python'])\n",
    "print (snakes, len(snakes), type(snakes), id(snakes))\n",
    "print (languages, len(languages), type(languages), id(languages))\n",
    "result = snakes.intersection(languages)\n",
    "print (result, len(result), type(result), id(result))\n",
    "result = snakes & languages\n",
    "print (result, len(result), type(result), id(result))\n",
    "print (snakes, len(snakes), type(snakes), id(snakes))\n",
    "print (languages, len(languages), type(languages), id(languages))"
   ]
  },
  {
   "cell_type": "code",
   "execution_count": 41,
   "id": "daede408-3006-4af4-aeea-ed4feb20ecd4",
   "metadata": {},
   "outputs": [
    {
     "name": "stdout",
     "output_type": "stream",
     "text": [
      "frozenset({'cobra', 'viper', 'python'}) 3 <class 'frozenset'> 2963381578080\n",
      "frozenset({'python', 'c++', 'java'}) 3 <class 'frozenset'> 2963381888032\n",
      "frozenset({'cobra', 'viper', 'java', 'c++'}) 4 <class 'frozenset'> 2963378650496\n",
      "frozenset({'cobra', 'viper', 'java', 'c++'}) 4 <class 'frozenset'> 2963378636160\n",
      "frozenset({'cobra', 'viper', 'python'}) 3 <class 'frozenset'> 2963381578080\n",
      "frozenset({'python', 'c++', 'java'}) 3 <class 'frozenset'> 2963381888032\n"
     ]
    }
   ],
   "source": [
    "# symmetric difference operation\n",
    "snakes = frozenset(['viper', 'python', 'cobra'])\n",
    "languages = frozenset(['java', 'c++', 'python'])\n",
    "print (snakes, len(snakes), type(snakes), id(snakes))\n",
    "print (languages, len(languages), type(languages), id(languages))\n",
    "result = snakes.symmetric_difference(languages)\n",
    "print (result, len(result), type(result), id(result))\n",
    "result = snakes ^ languages\n",
    "print (result, len(result), type(result), id(result))\n",
    "print (snakes, len(snakes), type(snakes), id(snakes))\n",
    "print (languages, len(languages), type(languages), id(languages))"
   ]
  },
  {
   "cell_type": "code",
   "execution_count": 41,
   "id": "7c668444",
   "metadata": {},
   "outputs": [
    {
     "name": "stdout",
     "output_type": "stream",
     "text": [
      "frozenset({'cobra', 'viper', 'python'}) 3 <class 'frozenset'> 2963381578080\n",
      "frozenset({'python', 'c++', 'java'}) 3 <class 'frozenset'> 2963381888032\n",
      "frozenset({'cobra', 'viper', 'java', 'c++'}) 4 <class 'frozenset'> 2963378650496\n",
      "frozenset({'cobra', 'viper', 'java', 'c++'}) 4 <class 'frozenset'> 2963378636160\n",
      "frozenset({'cobra', 'viper', 'python'}) 3 <class 'frozenset'> 2963381578080\n",
      "frozenset({'python', 'c++', 'java'}) 3 <class 'frozenset'> 2963381888032\n"
     ]
    }
   ],
   "source": [
    "# symmetric difference operation\n",
    "snakes = frozenset(['viper', 'python', 'cobra'])\n",
    "languages = frozenset(['java', 'c++', 'python'])\n",
    "print (snakes, len(snakes), type(snakes), id(snakes))\n",
    "print (languages, len(languages), type(languages), id(languages))\n",
    "result = snakes.symmetric_difference(languages)\n",
    "print (result, len(result), type(result), id(result))\n",
    "result = snakes ^ languages\n",
    "print (result, len(result), type(result), id(result))\n",
    "print (snakes, len(snakes), type(snakes), id(snakes))\n",
    "print (languages, len(languages), type(languages), id(languages))"
   ]
  },
  {
   "cell_type": "code",
   "execution_count": 43,
   "id": "bbb2aee4-714d-48a8-9d4a-8f6ad5390216",
   "metadata": {},
   "outputs": [
    {
     "name": "stdout",
     "output_type": "stream",
     "text": [
      "False True False\n",
      "False False True\n",
      "True False False\n"
     ]
    }
   ],
   "source": [
    "set1 = frozenset({100, 200, 300})\n",
    "set2 = frozenset({400, 500, 600, 700, 800})\n",
    "set3 = frozenset({600, 700, 800})\n",
    "print (set1.issuperset(set2), set2.issuperset(set3), set3.issuperset(set2))\n",
    "print (set1.issubset(set2), set2.issubset(set3), set3.issubset(set2))\n",
    "print (set1.isdisjoint(set2), set2.isdisjoint(set3), set3.isdisjoint(set2))"
   ]
  },
  {
   "cell_type": "code",
   "execution_count": 44,
   "id": "0acabdb8-c6cd-4469-b0f5-c591fc63cc35",
   "metadata": {},
   "outputs": [
    {
     "name": "stdout",
     "output_type": "stream",
     "text": [
      "frozenset({200, 100, 300}) 2963378300384 frozenset({200, 100, 300}) 2963378300384\n"
     ]
    }
   ],
   "source": [
    "set1 = frozenset({100, 200, 300})\n",
    "set2 = set1.copy()\n",
    "print (set1, id(set1), set2, id(set2))"
   ]
  },
  {
   "cell_type": "code",
   "execution_count": null,
   "id": "acaf5e55-bf39-4098-852a-e3c1275cc266",
   "metadata": {},
   "outputs": [],
   "source": []
  }
 ],
 "metadata": {
  "kernelspec": {
   "display_name": "Python 3 (ipykernel)",
   "language": "python",
   "name": "python3"
  },
  "language_info": {
   "codemirror_mode": {
    "name": "ipython",
    "version": 3
   },
   "file_extension": ".py",
   "mimetype": "text/x-python",
   "name": "python",
   "nbconvert_exporter": "python",
   "pygments_lexer": "ipython3",
   "version": "3.10.9"
  }
 },
 "nbformat": 4,
 "nbformat_minor": 5
}
