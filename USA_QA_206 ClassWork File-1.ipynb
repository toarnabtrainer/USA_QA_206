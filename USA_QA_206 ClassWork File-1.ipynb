{
 "cells": [
  {
   "cell_type": "markdown",
   "id": "5500c09c-fb48-4522-a6ef-755e81690785",
   "metadata": {
    "vscode": {
     "languageId": "plaintext"
    }
   },
   "source": [
    "## **Introduction to Python**"
   ]
  },
  {
   "cell_type": "markdown",
   "id": "40e029eb-f290-44b3-b737-2f6842c2741b",
   "metadata": {
    "vscode": {
     "languageId": "plaintext"
    }
   },
   "source": [
    "### User Input and Output"
   ]
  },
  {
   "cell_type": "code",
   "execution_count": 5,
   "id": "9e0cd002-a6ba-46fc-8f08-8927eed44f18",
   "metadata": {},
   "outputs": [],
   "source": [
    "# This is a comment line\n",
    "# This is another comment line\n",
    "# This is the last comment line"
   ]
  },
  {
   "cell_type": "code",
   "execution_count": 8,
   "id": "ed3b1407",
   "metadata": {
    "vscode": {
     "languageId": "plaintext"
    }
   },
   "outputs": [
    {
     "name": "stdin",
     "output_type": "stream",
     "text": [
      "Please enter the first number:  100\n",
      "Please enter the second number:  200\n"
     ]
    },
    {
     "name": "stdout",
     "output_type": "stream",
     "text": [
      "100 <class 'str'> 2557513147248\n",
      "200 <class 'str'> 2557513144176\n",
      "100200\n",
      "End of the program...\n"
     ]
    }
   ],
   "source": [
    "num1 = input(\"Please enter the first number: \")\n",
    "num2 = input(\"Please enter the second number: \")\n",
    "print (num1, type(num1), id(num1))\n",
    "print (num2, type(num2), id(num2))\n",
    "result = num1 + num2   # string concatenation\n",
    "print (result)\n",
    "print ('End of the program...')"
   ]
  },
  {
   "cell_type": "code",
   "execution_count": 12,
   "id": "f8bbd5ca",
   "metadata": {
    "vscode": {
     "languageId": "plaintext"
    }
   },
   "outputs": [
    {
     "name": "stdin",
     "output_type": "stream",
     "text": [
      "Please enter the first number:  200\n",
      "Please enter the second number:  300\n"
     ]
    },
    {
     "name": "stdout",
     "output_type": "stream",
     "text": [
      "200 <class 'int'> 2557433813456\n",
      "300 <class 'int'> 2557512297552\n",
      "500\n",
      "End of the program...\n"
     ]
    }
   ],
   "source": [
    "num1 = int(input(\"Please enter the first number: \"))\n",
    "num2 = int(input(\"Please enter the second number: \"))\n",
    "print (num1, type(num1), id(num1))\n",
    "print (num2, type(num2), id(num2))\n",
    "result = num1 + num2   # algebraic addition operation\n",
    "print (result)\n",
    "print ('End of the program...')"
   ]
  },
  {
   "cell_type": "code",
   "execution_count": 29,
   "id": "1826c159",
   "metadata": {
    "vscode": {
     "languageId": "plaintext"
    }
   },
   "outputs": [
    {
     "name": "stdout",
     "output_type": "stream",
     "text": [
      "So 200 + 300 = 500\n",
      "So 200 + 300 = 500\n",
      "So 200 + 300 = 500\n",
      "So 200 + 300 = 500\n",
      "So 200 + 300 = 500\n",
      "So 200 + 300 = 500\n",
      "So 200 + 300 = 500\n",
      "So 200 + 300 = 500\n",
      "So 200 + 300 = 500.000000\n",
      "So 200 + 300 = 500.000000\n",
      "So 200 + 300 =   500.00\n",
      "So 200 + 300 = 500\n"
     ]
    }
   ],
   "source": [
    "print (\"So\", num1, \"+\", num2, \"=\", result)\n",
    "print (\"So \" + str(num1) + \" + \" + str(num2) + \" = \" + str(result))\n",
    "print (\"So {} + {} = {}\".format(num1, num2, result))   # {} is called variable place holder\n",
    "print (\"So {0} + {1} = {2}\".format(num1, num2, result))   # {} is indexed variable place holder\n",
    "print (\"So {2} + {1} = {0}\".format(result, num2, num1))   # {} is indexed variable place holder\n",
    "print (\"So {fn} + {sn} = {re}\".format(fn = num1, sn = num2, re = result))   # {} is labelled variable place holder\n",
    "print (\"So {fn} + {sn} = {re}\".format(re = result, sn = num2, fn = num1))   # {} is labelled variable place holder\n",
    "print (\"So %d + %d = %d\"%(num1, num2, result))   # %d denotes decimal format\n",
    "print (\"So %d + %d = %f\"%(num1, num2, result))   # %f denotes float format\n",
    "print (\"So %d + %d = %10.6f\"%(num1, num2, result))   # %f denotes float format\n",
    "print (\"So %d + %d = %8.2f\"%(num1, num2, result))   # %f denotes float format\n",
    "print (f\"So {num1} + {num2} = {result}\")    # f stands for smart formatting available from Python version 3.7 onwards"
   ]
  },
  {
   "cell_type": "code",
   "execution_count": null,
   "id": "91b0e8e3",
   "metadata": {
    "vscode": {
     "languageId": "plaintext"
    }
   },
   "outputs": [],
   "source": [
    "help(str)"
   ]
  },
  {
   "cell_type": "markdown",
   "id": "5a5e8205-dc20-4bfd-8efe-d311e8755824",
   "metadata": {
    "vscode": {
     "languageId": "plaintext"
    }
   },
   "source": [
    "### Python Artithmetic Operators"
   ]
  },
  {
   "cell_type": "code",
   "execution_count": 30,
   "id": "d786341a",
   "metadata": {
    "vscode": {
     "languageId": "plaintext"
    }
   },
   "outputs": [
    {
     "name": "stdout",
     "output_type": "stream",
     "text": [
      "140\n",
      "60\n",
      "4000\n",
      "2.5\n",
      "2\n",
      "20\n",
      "100000000\n"
     ]
    }
   ],
   "source": [
    "print (100 + 40)    # addition\n",
    "print (100 - 40)    # subtraction\n",
    "print (100 * 40)    # multiplication\n",
    "print (100 / 40)    # float division\n",
    "print (100 // 40)   # integer division\n",
    "print (100 % 40)    # modulus or remainder of the division\n",
    "print (100 ** 4)    # exponentiation, to the power of"
   ]
  },
  {
   "cell_type": "markdown",
   "id": "b7db35bd-3306-4a0b-b612-76b64097085f",
   "metadata": {
    "vscode": {
     "languageId": "plaintext"
    }
   },
   "source": [
    "### Python Logical Operators"
   ]
  },
  {
   "cell_type": "code",
   "execution_count": 33,
   "id": "a25ec27a",
   "metadata": {
    "vscode": {
     "languageId": "plaintext"
    }
   },
   "outputs": [
    {
     "name": "stdout",
     "output_type": "stream",
     "text": [
      "False False False True\n",
      "False True True True\n",
      "True False\n"
     ]
    }
   ],
   "source": [
    "# and, or, not\n",
    "print (False and False, False and True, True and False, True and True)\n",
    "print (False or False, False or True, True or False, True or True)\n",
    "print (not False, not True)"
   ]
  },
  {
   "cell_type": "markdown",
   "id": "c7e23766-8154-43be-9f8f-db18149299ff",
   "metadata": {
    "vscode": {
     "languageId": "plaintext"
    }
   },
   "source": [
    "### Python relational Operators"
   ]
  },
  {
   "cell_type": "code",
   "execution_count": 34,
   "id": "886568fa",
   "metadata": {
    "vscode": {
     "languageId": "plaintext"
    }
   },
   "outputs": [
    {
     "name": "stdout",
     "output_type": "stream",
     "text": [
      "True True True True True True\n"
     ]
    }
   ],
   "source": [
    "print (100 > 20, 100 >= 100, 100 < 300, 300 <= 300, 100 != 300, 100 == 100)"
   ]
  },
  {
   "cell_type": "markdown",
   "id": "03f22031-c579-4a8e-81e3-c8bfc9e807e6",
   "metadata": {},
   "source": [
    "### Python Ternary Operator"
   ]
  },
  {
   "cell_type": "code",
   "execution_count": 65,
   "id": "6dafc3ff-a151-4723-934d-551c2c0bf0d9",
   "metadata": {},
   "outputs": [
    {
     "name": "stdin",
     "output_type": "stream",
     "text": [
      "Please enter an integer number:  100\n"
     ]
    },
    {
     "name": "stdout",
     "output_type": "stream",
     "text": [
      "So 100 is an Even integer number...\n"
     ]
    }
   ],
   "source": [
    "# There are three types of operators:\n",
    "#     1. Unary Operator: Only one operand, example: +100, -200\n",
    "#     2. Binary Operator: Two operands, example: 200 + 100, 300 - 200\n",
    "#     3. Ternary Operator: Three operands, example:\n",
    "num1 = int(input(\"Please enter an integer number: \"))\n",
    "result = \"Even\" if (num1 % 2 == 0) else \"Odd\"    # Example of Ternary Operator\n",
    "print (f\"So {num1} is an {result} integer number...\")"
   ]
  },
  {
   "cell_type": "markdown",
   "id": "88d429fe-d404-4e3b-a1b6-439a85e68330",
   "metadata": {
    "vscode": {
     "languageId": "plaintext"
    }
   },
   "source": [
    "### Python Conditional Statements"
   ]
  },
  {
   "cell_type": "code",
   "execution_count": 45,
   "id": "90114661",
   "metadata": {
    "vscode": {
     "languageId": "plaintext"
    }
   },
   "outputs": [
    {
     "name": "stdin",
     "output_type": "stream",
     "text": [
      "Please enter the first number:  300\n",
      "Please enter the second number:  200\n",
      "Please enter the third number:  100\n"
     ]
    },
    {
     "name": "stdout",
     "output_type": "stream",
     "text": [
      "So the first number is the maximum number...\n",
      "Maximum number is 300...\n",
      "End of the program...\n"
     ]
    }
   ],
   "source": [
    "# try to find the maximum of three user given numbers\n",
    "num1 = int(input(\"Please enter the first number: \"))\n",
    "num2 = int(input(\"Please enter the second number: \"))\n",
    "num3 = int(input(\"Please enter the third number: \"))\n",
    "if (num1 > num2):\n",
    "    if (num1 > num3):\n",
    "        print (\"So the first number is the maximum number...\")\n",
    "        print (f\"Maximum number is {num1}...\")\n",
    "    else:\n",
    "        print (\"So the third number is the maximum number...\")\n",
    "        print (f\"Maximum number is {num3}...\")\n",
    "elif (num2 > num3):    # elif means else if\n",
    "    print (\"So the second number is the maximum number...\")\n",
    "    print (f\"Maximum number is {num2}...\")\n",
    "else:\n",
    "    print (\"So the third number is the maximum number...\")\n",
    "    print (f\"Maximum number is {num3}...\")\n",
    "print (\"End of the program...\")"
   ]
  },
  {
   "cell_type": "code",
   "execution_count": 64,
   "id": "8f07700a-c1f0-4b2a-91f8-e64d16254daf",
   "metadata": {
    "vscode": {
     "languageId": "plaintext"
    }
   },
   "outputs": [
    {
     "name": "stdin",
     "output_type": "stream",
     "text": [
      "Please enter the first number:  300\n",
      "Please enter the second number:  200\n",
      "Please enter the third number:  100\n"
     ]
    },
    {
     "name": "stdout",
     "output_type": "stream",
     "text": [
      "So the first number is the maximum number...\n",
      "Maximum number is 300...\n",
      "End of the program...\n"
     ]
    }
   ],
   "source": [
    "# try to find the maximum of three user given numbers\n",
    "num1 = int(input(\"Please enter the first number: \"));\n",
    "num2 = int(input(\"Please enter the second number: \"));\n",
    "num3 = int(input(\"Please enter the third number: \"));\n",
    "if (num1 > num2):\n",
    "    if (num1 > num3): print (\"So the first number is the maximum number...\"); print (f\"Maximum number is {num1}...\")\n",
    "    else: print (\"So the third number is the maximum number...\"); print (f\"Maximum number is {num3}...\")\n",
    "elif (num2 > num3): print (\"So the second number is the maximum number...\"); print (f\"Maximum number is {num2}...\")\n",
    "else: print (\"So the third number is the maximum number...\"); print (f\"Maximum number is {num3}...\")\n",
    "print (\"End of the program...\")"
   ]
  },
  {
   "cell_type": "code",
   "execution_count": 49,
   "id": "ab3d8f7c",
   "metadata": {
    "vscode": {
     "languageId": "plaintext"
    }
   },
   "outputs": [
    {
     "name": "stdin",
     "output_type": "stream",
     "text": [
      "Please enter the first number:  200\n",
      "Please enter the second number:  300\n",
      "Please enter the third number:  100\n"
     ]
    },
    {
     "name": "stdout",
     "output_type": "stream",
     "text": [
      "So the second number is the maximum number...\n",
      "Maximum number is 300...\n",
      "End of the program...\n"
     ]
    }
   ],
   "source": [
    "# try to find the maximum of three user given numbers\n",
    "num1 = int(input(\"Please enter the first number: \"))\n",
    "num2 = int(input(\"Please enter the second number: \"))\n",
    "num3 = int(input(\"Please enter the third number: \"))\n",
    "if (num1 > num2 and num1 > num3):\n",
    "    print (\"So the first number is the maximum number...\")\n",
    "    print (f\"Maximum number is {num1}...\")\n",
    "elif (num2 > num3):    # elif means else if\n",
    "    print (\"So the second number is the maximum number...\")\n",
    "    print (f\"Maximum number is {num2}...\")\n",
    "else:\n",
    "    print (\"So the third number is the maximum number...\")\n",
    "    print (f\"Maximum number is {num3}...\")\n",
    "print (\"End of the program...\")"
   ]
  },
  {
   "cell_type": "code",
   "execution_count": null,
   "id": "d745d01b",
   "metadata": {
    "vscode": {
     "languageId": "plaintext"
    }
   },
   "outputs": [],
   "source": [
    "Class Assignment:\n",
    "-----------------\n",
    "Take three integer numbers from the user as input. And find the second maximum number out of them and print it."
   ]
  },
  {
   "cell_type": "code",
   "execution_count": 59,
   "id": "fcd804e7",
   "metadata": {
    "vscode": {
     "languageId": "plaintext"
    }
   },
   "outputs": [
    {
     "name": "stdout",
     "output_type": "stream",
     "text": [
      "100 <class 'int'> 2557433810256\n",
      "Tutorial <class 'str'> 2557512968624\n",
      "T <class 'str'> 2557435197232\n",
      "100.45 <class 'float'> 2557540383536\n",
      "True <class 'bool'> 140732972091600\n"
     ]
    }
   ],
   "source": [
    "var = 100\n",
    "print (var, type(var), id(var))\n",
    "var = \"Tutorial\"\n",
    "print (var, type(var), id(var))\n",
    "var = \"T\"\n",
    "print (var, type(var), id(var))\n",
    "var = 100.45\n",
    "print (var, type(var), id(var))\n",
    "var = True\n",
    "print (var, type(var), id(var))"
   ]
  },
  {
   "cell_type": "code",
   "execution_count": null,
   "id": "cdd45d8f",
   "metadata": {
    "vscode": {
     "languageId": "plaintext"
    }
   },
   "outputs": [],
   "source": []
  },
  {
   "cell_type": "code",
   "execution_count": null,
   "id": "027a3ccd",
   "metadata": {
    "vscode": {
     "languageId": "plaintext"
    }
   },
   "outputs": [],
   "source": []
  },
  {
   "cell_type": "code",
   "execution_count": null,
   "id": "2cadbdeb",
   "metadata": {
    "vscode": {
     "languageId": "plaintext"
    }
   },
   "outputs": [],
   "source": []
  },
  {
   "cell_type": "code",
   "execution_count": null,
   "id": "d7748f5c",
   "metadata": {
    "vscode": {
     "languageId": "plaintext"
    }
   },
   "outputs": [],
   "source": []
  },
  {
   "cell_type": "code",
   "execution_count": null,
   "id": "ae89bb90",
   "metadata": {
    "vscode": {
     "languageId": "plaintext"
    }
   },
   "outputs": [],
   "source": []
  },
  {
   "cell_type": "code",
   "execution_count": null,
   "id": "a229a431-e8ca-4ab6-b381-58ee7511c806",
   "metadata": {},
   "outputs": [],
   "source": []
  },
  {
   "cell_type": "code",
   "execution_count": null,
   "id": "bd709cf4-fc14-45b5-9d84-4e9e08344e4e",
   "metadata": {},
   "outputs": [],
   "source": []
  },
  {
   "cell_type": "code",
   "execution_count": null,
   "id": "d99f4211-794a-463a-9a41-c5fc0af5f76a",
   "metadata": {},
   "outputs": [],
   "source": []
  },
  {
   "cell_type": "code",
   "execution_count": null,
   "id": "52efa74e-09ac-44a1-bb57-43826296b3d5",
   "metadata": {},
   "outputs": [],
   "source": []
  },
  {
   "cell_type": "code",
   "execution_count": null,
   "id": "eaaaaf1c-e27a-4ec4-9030-c6aafd70866b",
   "metadata": {},
   "outputs": [],
   "source": []
  },
  {
   "cell_type": "code",
   "execution_count": null,
   "id": "176fcda5-742d-42a6-a981-290c36360d41",
   "metadata": {},
   "outputs": [],
   "source": []
  },
  {
   "cell_type": "code",
   "execution_count": null,
   "id": "46324479-b371-41b8-aa5d-b26cf3dbf586",
   "metadata": {},
   "outputs": [],
   "source": []
  },
  {
   "cell_type": "code",
   "execution_count": null,
   "id": "96a8f01a-0d5c-4062-8d27-354f3e027076",
   "metadata": {},
   "outputs": [],
   "source": []
  },
  {
   "cell_type": "code",
   "execution_count": null,
   "id": "62475738-1080-4492-8969-3ee7db25f04a",
   "metadata": {},
   "outputs": [],
   "source": []
  },
  {
   "cell_type": "code",
   "execution_count": null,
   "id": "08359e3e-ae4f-4ebf-885a-d7ae2b1a014c",
   "metadata": {},
   "outputs": [],
   "source": []
  },
  {
   "cell_type": "code",
   "execution_count": null,
   "id": "83b1a1e0-784c-447a-b55c-793a0ec2d05e",
   "metadata": {},
   "outputs": [],
   "source": []
  },
  {
   "cell_type": "code",
   "execution_count": null,
   "id": "ee559c2c-189d-4804-884b-c4eac28ec48c",
   "metadata": {},
   "outputs": [],
   "source": []
  },
  {
   "cell_type": "code",
   "execution_count": null,
   "id": "f699afb7-1d94-4437-a720-04b1b2b06d95",
   "metadata": {},
   "outputs": [],
   "source": []
  },
  {
   "cell_type": "code",
   "execution_count": null,
   "id": "ceb7626c-116d-4373-ac70-e30e605cc250",
   "metadata": {},
   "outputs": [],
   "source": []
  },
  {
   "cell_type": "code",
   "execution_count": null,
   "id": "bb36ab01-ba59-420a-8589-640b1590b55b",
   "metadata": {},
   "outputs": [],
   "source": []
  },
  {
   "cell_type": "code",
   "execution_count": null,
   "id": "0288d1bf-6d7e-495e-b82a-9bbb9d8e12b1",
   "metadata": {},
   "outputs": [],
   "source": []
  },
  {
   "cell_type": "code",
   "execution_count": null,
   "id": "32f1cddb-3284-4ade-ac94-a1f19e466c85",
   "metadata": {},
   "outputs": [],
   "source": []
  }
 ],
 "metadata": {
  "kernelspec": {
   "display_name": "Python 3 (ipykernel)",
   "language": "python",
   "name": "python3"
  },
  "language_info": {
   "codemirror_mode": {
    "name": "ipython",
    "version": 3
   },
   "file_extension": ".py",
   "mimetype": "text/x-python",
   "name": "python",
   "nbconvert_exporter": "python",
   "pygments_lexer": "ipython3",
   "version": "3.10.9"
  }
 },
 "nbformat": 4,
 "nbformat_minor": 5
}
