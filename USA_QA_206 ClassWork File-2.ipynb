{
 "cells": [
  {
   "cell_type": "markdown",
   "id": "b87e9bdd-8150-40e8-9173-c9f2cd7824b5",
   "metadata": {},
   "source": [
    "### Selenium control options to write text, button press, select menu and others"
   ]
  },
  {
   "cell_type": "code",
   "execution_count": 1,
   "id": "e73a2475-3128-459e-bff4-4cd46dd1e7fa",
   "metadata": {},
   "outputs": [],
   "source": [
    "# import all the required modules\n",
    "from selenium import webdriver\n",
    "from selenium.webdriver.chrome.service import Service"
   ]
  },
  {
   "cell_type": "code",
   "execution_count": 2,
   "id": "d13bc619-83e4-49cb-a035-cce371e8e95a",
   "metadata": {},
   "outputs": [
    {
     "name": "stdout",
     "output_type": "stream",
     "text": [
      "4.10.0\n"
     ]
    }
   ],
   "source": [
    "# checking the version of the selenium\n",
    "print (webdriver.__version__)"
   ]
  },
  {
   "cell_type": "code",
   "execution_count": 4,
   "id": "ef128673-86e8-4b56-8b2a-c2930236d4fe",
   "metadata": {},
   "outputs": [],
   "source": [
    "# at first we shall have to check whether the chrome driver is present in the present folder or not\n",
    "# if present then no relative or absolute path has to be given to access the driver\n",
    "service = Service(executable_path=\"chromedriver.exe\")\n",
    "options = webdriver.ChromeOptions()\n",
    "driver = webdriver.Chrome(service=service, options=options)"
   ]
  },
  {
   "cell_type": "code",
   "execution_count": 5,
   "id": "4095bc70-c591-4534-ad71-fd774ed7e322",
   "metadata": {},
   "outputs": [],
   "source": [
    "# open the web portal to calculate nCr operations\n",
    "# \"https://www.calculatorsoup.com/calculators/discretemathematics/combinations.php\"\n",
    "# 5! = 1 * 2 * 3 * 4 * 5 = 5 * 4 * 3 * 2 * 1 = 120\n",
    "\n",
    "URL = \"https://www.calculatorsoup.com/calculators/discretemathematics/combinations.php\"\n",
    "driver.get(URL)"
   ]
  },
  {
   "cell_type": "code",
   "execution_count": 16,
   "id": "dd0dd87e-27e2-4c8f-a079-0293818a4d73",
   "metadata": {},
   "outputs": [],
   "source": [
    "n_input = driver.find_element(\"id\", \"n\")\n",
    "n_input.clear()\n",
    "n_input.send_keys(\"10\")"
   ]
  },
  {
   "cell_type": "code",
   "execution_count": 17,
   "id": "6bbd43e6-01e8-41f8-bf31-d88a1221fa26",
   "metadata": {},
   "outputs": [],
   "source": [
    "# r_input = driver.find_element(\"id\", \"r\")\n",
    "# r_input.clear()\n",
    "# r_input.send_keys(\"8\")"
   ]
  },
  {
   "cell_type": "code",
   "execution_count": 18,
   "id": "240e4767-37f0-467d-84c1-b033e97f742d",
   "metadata": {},
   "outputs": [],
   "source": [
    "# to press keys, we can use the following library\n",
    "from selenium.webdriver.common.keys import Keys\n",
    "\n",
    "# press the Tab to go to the next input area\n",
    "n_input.send_keys(Keys.TAB)\n",
    "\n",
    "# select currently selected input area\n",
    "r_input = driver.switch_to.active_element\n",
    "\n",
    "# put the r value inside the text box\n",
    "r_input.clear()\n",
    "r_input.send_keys(\"5\")"
   ]
  },
  {
   "cell_type": "code",
   "execution_count": 19,
   "id": "6a44ee3e-758e-4daf-a3e4-49d0855ab596",
   "metadata": {},
   "outputs": [],
   "source": [
    "# now go to the calculate button and click on it\n",
    "calculate_button = driver.find_element(\"id\", \"calculateButton\")\n",
    "calculate_button.click()"
   ]
  },
  {
   "cell_type": "code",
   "execution_count": 28,
   "id": "512da343-ad7a-4326-a770-abaa71cd5bc8",
   "metadata": {},
   "outputs": [
    {
     "name": "stdout",
     "output_type": "stream",
     "text": [
      "252\n"
     ]
    }
   ],
   "source": [
    "# read the answer from the result area\n",
    "result_area = driver.find_element(\"id\", \"calculatorAnswer\")\n",
    "result = result_area.text\n",
    "# print (result)\n",
    "# print (result.split(\" \")[1])\n",
    "# print (result.split(\" \")[1].split(\"\\n\"))\n",
    "print (result.split(\" \")[1].split(\"\\n\")[0])"
   ]
  },
  {
   "cell_type": "code",
   "execution_count": 29,
   "id": "9a3dfb3a-953c-47bb-954b-b334d80ea3e6",
   "metadata": {},
   "outputs": [
    {
     "name": "stdout",
     "output_type": "stream",
     "text": [
      "So the caculated factorial is 252\n"
     ]
    }
   ],
   "source": [
    "final_result = result.split(\" \")[1].split(\"\\n\")[0]\n",
    "print (\"So the caculated factorial is\", final_result)"
   ]
  },
  {
   "cell_type": "code",
   "execution_count": null,
   "id": "aae1abe9-0236-440a-ae88-3c546f4935d5",
   "metadata": {},
   "outputs": [],
   "source": []
  },
  {
   "cell_type": "code",
   "execution_count": null,
   "id": "89612bc8-e490-44e2-9472-c9b2b27d7409",
   "metadata": {},
   "outputs": [],
   "source": []
  }
 ],
 "metadata": {
  "kernelspec": {
   "display_name": "Python 3 (ipykernel)",
   "language": "python",
   "name": "python3"
  },
  "language_info": {
   "codemirror_mode": {
    "name": "ipython",
    "version": 3
   },
   "file_extension": ".py",
   "mimetype": "text/x-python",
   "name": "python",
   "nbconvert_exporter": "python",
   "pygments_lexer": "ipython3",
   "version": "3.10.9"
  }
 },
 "nbformat": 4,
 "nbformat_minor": 5
}
