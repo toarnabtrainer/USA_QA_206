{
 "cells": [
  {
   "cell_type": "markdown",
   "id": "0034ca88-6469-4413-b673-ff3636cee991",
   "metadata": {},
   "source": [
    "## Selenium control options to writentext, button press, dropdown list, checkbox and others"
   ]
  },
  {
   "cell_type": "code",
   "execution_count": 1,
   "id": "e52fd89b-8559-4b7a-bf4b-4faef39464ef",
   "metadata": {},
   "outputs": [],
   "source": [
    "# importing all required modules\n",
    "from selenium import webdriver\n",
    "from selenium.webdriver.chrome.service import Service"
   ]
  },
  {
   "cell_type": "code",
   "execution_count": 2,
   "id": "d3c06bfa-22d5-433b-9f2e-7b4fd9dc0cd2",
   "metadata": {},
   "outputs": [
    {
     "name": "stdout",
     "output_type": "stream",
     "text": [
      "4.10.0\n"
     ]
    }
   ],
   "source": [
    "# also checking the version of selenium\n",
    "print (webdriver.__version__)"
   ]
  },
  {
   "cell_type": "code",
   "execution_count": 20,
   "id": "2ee54dcd-27a2-4986-bade-3c97fd3190f7",
   "metadata": {},
   "outputs": [],
   "source": [
    "# value is given inside the HTML text# checking the presence of chrome web driver presence in the current path\n",
    "service = Service(executable_path=\"./chromedriver.exe\")\n",
    "options = webdriver.ChromeOptions()\n",
    "driver = webdriver.Chrome(service=service, options=options)"
   ]
  },
  {
   "cell_type": "code",
   "execution_count": 4,
   "id": "cf8b2b6c-dc46-41bf-9d0e-ed185c0fbc14",
   "metadata": {},
   "outputs": [],
   "source": [
    "# now we shall go to another website for our currency conversion\n",
    "# Now open the link https://www.calculator.net then goto the \"All calculators\" and \n",
    "# click on \"Currency Calculator\" option\n",
    "# and the final url will be \"https://www.calculator.net/currency-calculator.html\"\n",
    "driver.get(\"https://www.calculator.net/currency-calculator.html\")"
   ]
  },
  {
   "cell_type": "code",
   "execution_count": 5,
   "id": "2d44a1f8-249b-4cdb-9442-23d0d4cbf460",
   "metadata": {},
   "outputs": [],
   "source": [
    "# import select and checkbox from selenium library to get the HTML select tags\n",
    "from selenium.webdriver.support.ui import Select"
   ]
  },
  {
   "cell_type": "code",
   "execution_count": 7,
   "id": "6852f15a-908e-456e-b881-5847ea5cbb66",
   "metadata": {},
   "outputs": [],
   "source": [
    "from_currency = Select(driver.find_element(\"id\", \"efrom\"))\n",
    "from_currency.select_by_visible_text(\"INR: Indian Rupee\")   # select by text visible to the user"
   ]
  },
  {
   "cell_type": "code",
   "execution_count": 8,
   "id": "805e8069-7cc9-4098-b5be-acb80b52936b",
   "metadata": {},
   "outputs": [],
   "source": [
    "to_currency = Select(driver.find_element(\"id\", \"eto\"))\n",
    "to_currency.select_by_value(\"USD\")  # value is given inside the HTML text"
   ]
  },
  {
   "cell_type": "code",
   "execution_count": 10,
   "id": "d75d1303-fb2b-4985-902a-d9e33e84213f",
   "metadata": {},
   "outputs": [],
   "source": [
    "# now we shall put the amount 500 to the textbox\n",
    "amount_textbox = driver.find_element(\"id\", \"eamount\")\n",
    "# clear the text field at first and then put the new value there\n",
    "amount_textbox.clear()\n",
    "amount_textbox.send_keys(\"500\")"
   ]
  },
  {
   "cell_type": "code",
   "execution_count": 12,
   "id": "bb6de38a-c462-4a38-a274-f1dd9c276884",
   "metadata": {},
   "outputs": [],
   "source": [
    "# click on the calculate button\n",
    "calculate_button = driver.find_element(\"xpath\", '//*[@id=\"standard\"]/tbody/tr[5]/td[2]/input[2]')\n",
    "calculate_button.click()"
   ]
  },
  {
   "cell_type": "code",
   "execution_count": 13,
   "id": "33966e80-a084-46b0-937d-c3171420d9df",
   "metadata": {},
   "outputs": [],
   "source": [
    "checkbox = driver.find_element(\"xpath\", '//*[@id=\"ccmajorccsettingbox\"]')\n",
    "# if this is already checked then uncheck it by the help of the java script\n",
    "if checkbox.is_selected():\n",
    "    driver.execute_script(\"arguments[0].click()\", checkbox)"
   ]
  },
  {
   "cell_type": "code",
   "execution_count": 15,
   "id": "0161f1d8-bc4f-4e30-8c90-ea495cd5ddf5",
   "metadata": {},
   "outputs": [],
   "source": [
    "# change the from currency text to \"ZWL\"\n",
    "from_currency = Select(driver.find_element(\"id\", \"efrom\"))\n",
    "from_currency.select_by_value(\"ZWL\")"
   ]
  },
  {
   "cell_type": "code",
   "execution_count": 16,
   "id": "245d6699-a6cf-4ab4-bee0-710646184e6a",
   "metadata": {},
   "outputs": [],
   "source": [
    "to_currency = Select(driver.find_element(\"id\", \"eto\"))\n",
    "to_currency.select_by_visible_text(\"EUR: Euro\")"
   ]
  },
  {
   "cell_type": "code",
   "execution_count": 17,
   "id": "be981f27-5986-49e4-81ae-3b9007c4302b",
   "metadata": {},
   "outputs": [],
   "source": [
    "# clear the textbox field and then insert value 1000\n",
    "amount_textbox = driver.find_element(\"id\", \"eamount\")\n",
    "amount_textbox.clear()\n",
    "amount_textbox.send_keys(\"1000\")"
   ]
  },
  {
   "cell_type": "code",
   "execution_count": 18,
   "id": "72738ad0-5f4b-45f7-8c42-c29e758b648d",
   "metadata": {},
   "outputs": [],
   "source": [
    "command_button = driver.find_element(\"xpath\", '//*[@id=\"standard\"]/tbody/tr[5]/td[2]/input[2]')\n",
    "command_button.click()"
   ]
  },
  {
   "cell_type": "code",
   "execution_count": 19,
   "id": "b5d70681-3b91-4495-8fda-258b3d7216cf",
   "metadata": {},
   "outputs": [],
   "source": [
    "driver.quit()"
   ]
  },
  {
   "cell_type": "code",
   "execution_count": null,
   "id": "0cac7de4-81df-41ae-81a2-1e62b887da0e",
   "metadata": {},
   "outputs": [],
   "source": []
  },
  {
   "cell_type": "code",
   "execution_count": null,
   "id": "405c4977-5c05-4e31-9106-906f006473c7",
   "metadata": {},
   "outputs": [],
   "source": []
  }
 ],
 "metadata": {
  "kernelspec": {
   "display_name": "Python 3 (ipykernel)",
   "language": "python",
   "name": "python3"
  },
  "language_info": {
   "codemirror_mode": {
    "name": "ipython",
    "version": 3
   },
   "file_extension": ".py",
   "mimetype": "text/x-python",
   "name": "python",
   "nbconvert_exporter": "python",
   "pygments_lexer": "ipython3",
   "version": "3.10.9"
  }
 },
 "nbformat": 4,
 "nbformat_minor": 5
}
